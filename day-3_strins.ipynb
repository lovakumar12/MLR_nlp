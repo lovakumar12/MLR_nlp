{
 "cells": [
  {
   "cell_type": "markdown",
   "metadata": {},
   "source": [
    "##  # **Introduction to Strings** ✅"
   ]
  },
  {
   "cell_type": "markdown",
   "metadata": {},
   "source": [
    "Strings are used in Python to record text information, such as names. It could either be a word, a phrase, a sentence, a paragraph or an entire encyclopedia. Strings in Python are actually a sequence, which basically means Python keeps track of every element in the string as a sequence"
   ]
  },
  {
   "cell_type": "markdown",
   "metadata": {},
   "source": [
    "### **Creating a String**\n",
    "### To create a string in Python you need to use either single quotes or double quotes"
   ]
  },
  {
   "cell_type": "code",
   "execution_count": 161,
   "metadata": {},
   "outputs": [
    {
     "ename": "NameError",
     "evalue": "name 'nayidi' is not defined",
     "output_type": "error",
     "traceback": [
      "\u001b[1;31m---------------------------------------------------------------------------\u001b[0m",
      "\u001b[1;31mNameError\u001b[0m                                 Traceback (most recent call last)",
      "Cell \u001b[1;32mIn[161], line 1\u001b[0m\n\u001b[1;32m----> 1\u001b[0m name\u001b[38;5;241m=\u001b[39m\u001b[43mnayidi\u001b[49m\n",
      "\u001b[1;31mNameError\u001b[0m: name 'nayidi' is not defined"
     ]
    }
   ],
   "source": [
    "name=nayidi"
   ]
  },
  {
   "cell_type": "code",
   "execution_count": 13,
   "metadata": {},
   "outputs": [
    {
     "data": {
      "text/plain": [
       "'nayidi'"
      ]
     },
     "execution_count": 13,
     "metadata": {},
     "output_type": "execute_result"
    }
   ],
   "source": [
    "name=\"nayidi\" ## creating string\n",
    "name"
   ]
  },
  {
   "cell_type": "code",
   "execution_count": null,
   "metadata": {},
   "outputs": [],
   "source": [
    "# **Creating a String**\n",
    "# To create a string in Python you need to use either single quotes or double quotes"
   ]
  },
  {
   "cell_type": "markdown",
   "metadata": {},
   "source": [
    "## print"
   ]
  },
  {
   "cell_type": "markdown",
   "metadata": {},
   "source": [
    "## https://docs.python.org/3/library/constants.html"
   ]
  },
  {
   "cell_type": "code",
   "execution_count": 14,
   "metadata": {},
   "outputs": [
    {
     "ename": "SyntaxError",
     "evalue": "incomplete input (2405950833.py, line 1)",
     "output_type": "error",
     "traceback": [
      "\u001b[1;36m  Cell \u001b[1;32mIn[14], line 1\u001b[1;36m\u001b[0m\n\u001b[1;33m    print(\"Hello , world\"\u001b[0m\n\u001b[1;37m                         ^\u001b[0m\n\u001b[1;31mSyntaxError\u001b[0m\u001b[1;31m:\u001b[0m incomplete input\n"
     ]
    }
   ],
   "source": [
    "print(\"Hello , world\""
   ]
  },
  {
   "cell_type": "code",
   "execution_count": 15,
   "metadata": {},
   "outputs": [
    {
     "name": "stdout",
     "output_type": "stream",
     "text": [
      "Hello , world\n"
     ]
    }
   ],
   "source": [
    "print(\"Hello , world\")"
   ]
  },
  {
   "cell_type": "code",
   "execution_count": 17,
   "metadata": {},
   "outputs": [
    {
     "name": "stdout",
     "output_type": "stream",
     "text": [
      "hello ,x \n"
     ]
    }
   ],
   "source": [
    "x=input(\"what's your name?\")\n",
    "print(\"hello ,x \")  ## is this ok and what is the output"
   ]
  },
  {
   "cell_type": "code",
   "execution_count": 162,
   "metadata": {},
   "outputs": [
    {
     "name": "stdout",
     "output_type": "stream",
     "text": [
      "hello , nayidi\n"
     ]
    }
   ],
   "source": [
    "## then how to get it \n",
    "## ask user name\n",
    "name=input(\"what's your name?\")\n",
    "\n",
    "## say hi to user\n",
    "print(\"hello , \" + name)\n"
   ]
  },
  {
   "cell_type": "code",
   "execution_count": 27,
   "metadata": {},
   "outputs": [
    {
     "name": "stdout",
     "output_type": "stream",
     "text": [
      "hello ,                  Lova\n"
     ]
    }
   ],
   "source": [
    "## ask user name\n",
    "name=input(\"who is this?\")\n",
    "\n",
    "## say hi to user\n",
    "print(\"hello , \" , name)"
   ]
  },
  {
   "cell_type": "code",
   "execution_count": 30,
   "metadata": {},
   "outputs": [
    {
     "name": "stdout",
     "output_type": "stream",
     "text": [
      " hello , {name}\n"
     ]
    }
   ],
   "source": [
    "#print(*objects, sep=' ', end='\\n', file=None, flush=False)\n",
    "name=input(\"what's your name?\").strip() ## strip for avoid the spaces in the input\n",
    "print(f\" hello , {name}\")"
   ]
  },
  {
   "cell_type": "code",
   "execution_count": 10,
   "metadata": {},
   "outputs": [
    {
     "name": "stdout",
     "output_type": "stream",
     "text": [
      "my name is alice and  I am 29 year old\n"
     ]
    }
   ],
   "source": [
    "name=\"alice\"\n",
    "age=29\n",
    "print(\"my name is {} and  I am {} year old\".format(name, age))"
   ]
  },
  {
   "cell_type": "code",
   "execution_count": 32,
   "metadata": {},
   "outputs": [
    {
     "name": "stdout",
     "output_type": "stream",
     "text": [
      "my name is 20  and i am nayidi years old\n"
     ]
    }
   ],
   "source": [
    "name=\"nayidi\"\n",
    "age=20\n",
    "print(\"my name is {}  and i am {} years old\".format(age,name)) "
   ]
  },
  {
   "cell_type": "code",
   "execution_count": 35,
   "metadata": {},
   "outputs": [
    {
     "name": "stdout",
     "output_type": "stream",
     "text": [
      "my name is lova and  I am 20  years old and i am studying data science\n"
     ]
    }
   ],
   "source": [
    "## printing using %\n",
    "name=\"lova\"\n",
    "age=20\n",
    "study=\"data science\"\n",
    "print(\"my name is %s and  I am %d  years old and i am studying %s\" %(name , age ,study))"
   ]
  },
  {
   "cell_type": "code",
   "execution_count": 36,
   "metadata": {},
   "outputs": [
    {
     "name": "stdout",
     "output_type": "stream",
     "text": [
      "my age was 28 years\n"
     ]
    }
   ],
   "source": [
    "##Format with print\n",
    "###### format with print\n",
    "age=28\n",
    "print(\"my age was {0} years\".format(age))"
   ]
  },
  {
   "cell_type": "code",
   "execution_count": 37,
   "metadata": {},
   "outputs": [
    {
     "name": "stdout",
     "output_type": "stream",
     "text": [
      "There are 31 days in jan ,mar ,apr , may , july ,aug ,oct ,dec\n"
     ]
    }
   ],
   "source": [
    "print(\"There are {0} days in {1} ,{2} ,{3} ,{4} ,{5} ,{6} ,{7} ,{8}\".format(31,\"jan\",\"mar\" ,\"apr\" ,\" may\" ,\" july\", \"aug\" ,\"oct\",\"dec\"))"
   ]
  },
  {
   "cell_type": "code",
   "execution_count": 38,
   "metadata": {},
   "outputs": [
    {
     "name": "stdout",
     "output_type": "stream",
     "text": [
      "There are 31 days in jan, mar ,apr , may, july, aug , oct,dec\n"
     ]
    }
   ],
   "source": [
    "\n",
    "print(\"There are {0} days in jan, mar ,apr , may, july, aug , oct,dec\".format(31))"
   ]
  },
  {
   "cell_type": "code",
   "execution_count": 45,
   "metadata": {},
   "outputs": [
    {
     "name": "stdout",
     "output_type": "stream",
     "text": [
      "jan:31, feb:28, mar:31, Apr:30, may:31, June:30, July:31, Aug:31, sep:31, oct:30, Nov:30, Dec:30\n",
      "\n",
      "\n",
      "  jan:31\n",
      "  feb:28\n",
      "  mar:31\n",
      "  Apr:30\n",
      "  may:31\n",
      "  June:30\n",
      "  July:31\n",
      "  Aug:31\n",
      "  sep:31\n",
      "  oct:30\n",
      "  Nov:30\n",
      "  Dec:30\n",
      "\n",
      "      \n"
     ]
    }
   ],
   "source": [
    "print(\"jan:{2}, feb:{0}, mar:{2}, Apr:{1}, may:{2}, June:{1}, July:{2}, Aug:{2}, sep:{2}, oct:{1}, Nov:{1}, Dec:{1}\".format(28,30,31))\n",
    "print()\n",
    "print(\"\"\"\n",
    "  jan:{2}\n",
    "  feb:{0}\n",
    "  mar:{2}\n",
    "  Apr:{1}\n",
    "  may:{2}\n",
    "  June:{1}\n",
    "  July:{2}\n",
    "  Aug:{2}\n",
    "  sep:{2}\n",
    "  oct:{1}\n",
    "  Nov:{1}\n",
    "  Dec:{1}\n",
    "\n",
    "      \"\"\".format(28,30,31))"
   ]
  },
  {
   "cell_type": "code",
   "execution_count": 48,
   "metadata": {},
   "outputs": [
    {
     "name": "stdout",
     "output_type": "stream",
     "text": [
      "10\n",
      "\n",
      "2\n"
     ]
    }
   ],
   "source": [
    "a=10\n",
    "v=2\n",
    "print(a)\n",
    "print()\n",
    "print(v)"
   ]
  },
  {
   "cell_type": "code",
   "execution_count": 50,
   "metadata": {},
   "outputs": [
    {
     "name": "stdout",
     "output_type": "stream",
     "text": [
      "hello \n",
      " world\n"
     ]
    }
   ],
   "source": [
    "print(\"hello \\n world\")"
   ]
  },
  {
   "cell_type": "code",
   "execution_count": 52,
   "metadata": {},
   "outputs": [
    {
     "name": "stdout",
     "output_type": "stream",
     "text": [
      "Hi\n",
      " welcome\n",
      "Tab\tSeparated\n",
      "Double quote: \" \n",
      "Backslash: \\\n"
     ]
    }
   ],
   "source": [
    "print(\"Hi\\n welcome\")  # Newline\n",
    "\n",
    "\n",
    "print(\"Tab\\tSeparated\")  # Tab\n",
    "print(\"Double quote: \\\" \")  # Double quote\n",
    "print(\"Backslash: \\\\\")  # Backslash\n"
   ]
  },
  {
   "cell_type": "markdown",
   "metadata": {},
   "source": [
    "# **Creating a String**"
   ]
  },
  {
   "cell_type": "code",
   "execution_count": null,
   "metadata": {},
   "outputs": [],
   "source": [
    "# To create a string in Python you need to use either single quotes or double quotes\n",
    "\n",
    "x = \"John\"\n",
    "# is the same as\n",
    "x = 'John'\n"
   ]
  },
  {
   "cell_type": "code",
   "execution_count": 53,
   "metadata": {},
   "outputs": [
    {
     "name": "stdout",
     "output_type": "stream",
     "text": [
      "deeplearning sits at the heart of GenerativeAI\n"
     ]
    },
    {
     "data": {
      "text/plain": [
       "str"
      ]
     },
     "execution_count": 53,
     "metadata": {},
     "output_type": "execute_result"
    }
   ],
   "source": [
    "## large sentence\n",
    "sen= 'deeplearning sits at the heart of GenerativeAI'\n",
    "print(sen)\n",
    "\n",
    "type(sen)\n"
   ]
  },
  {
   "cell_type": "code",
   "execution_count": 54,
   "metadata": {},
   "outputs": [
    {
     "name": "stdout",
     "output_type": "stream",
     "text": [
      "String built with double quotes\n"
     ]
    },
    {
     "data": {
      "text/plain": [
       "str"
      ]
     },
     "execution_count": 54,
     "metadata": {},
     "output_type": "execute_result"
    }
   ],
   "source": [
    "# We can also use double quote\n",
    "\n",
    "abc = \"String built with double quotes\"\n",
    "print(abc)   # Use the print command\n",
    "\n",
    "type(abc)"
   ]
  },
  {
   "cell_type": "code",
   "execution_count": 55,
   "metadata": {},
   "outputs": [
    {
     "ename": "SyntaxError",
     "evalue": "unterminated string literal (detected at line 3) (1409516471.py, line 3)",
     "output_type": "error",
     "traceback": [
      "\u001b[1;36m  Cell \u001b[1;32mIn[55], line 3\u001b[1;36m\u001b[0m\n\u001b[1;33m    st= 'I'm nayidi ,i want to become a data scientist'\u001b[0m\n\u001b[1;37m                                                      ^\u001b[0m\n\u001b[1;31mSyntaxError\u001b[0m\u001b[1;31m:\u001b[0m unterminated string literal (detected at line 3)\n"
     ]
    }
   ],
   "source": [
    "# Be careful with quotes!\n",
    "\n",
    "st= 'I'm nayidi ,i want to become a data scientist'\n",
    "\n",
    "print(st)"
   ]
  },
  {
   "cell_type": "code",
   "execution_count": 56,
   "metadata": {},
   "outputs": [
    {
     "name": "stdout",
     "output_type": "stream",
     "text": [
      "I'm nayidi ,i want to become a data scientist\n"
     ]
    }
   ],
   "source": [
    "## after correction\n",
    "st1= \"I'm nayidi ,i want to become a data scientist\"\n",
    "print(st1)"
   ]
  },
  {
   "cell_type": "code",
   "execution_count": 57,
   "metadata": {},
   "outputs": [
    {
     "data": {
      "text/plain": [
       "\"The Samsung Group[3] (or simply Samsung, stylized as SΛMSUNG) (Korean: 삼성 [samsʌŋ]) is a South Korean multinational manufacturing conglomerate headquartered in Samsung Town, Seoul, South Korea.[1] It comprises numerous affiliated businesses,[1] most of them united under the Samsung brand, and is the largest South Korean chaebol (business conglomerate). As of 2020, Samsung has the 8th highest global brand value.[4]\\n\\nSamsung was founded by Lee Byung-chul in 1938 as a trading company. Over the next three decades, the group diversified into areas including food processing, textiles, insurance, securities, and retail. Samsung entered the electronics industry in the late 1960s and the construction and shipbuilding industries in the mid-1970s; these areas would drive its subsequent growth. Following Lee's death in 1987, Samsung was separated into five business groups – Samsung Group, Shinsegae Group, CJ Group and Hansol Group, and Joongang Group.\\n\\nNotable Samsung industrial affiliates include Samsung Electronics (the world's largest information technology company, consumer electronics maker and chipmaker measured by 2017 revenues),[5][6] Samsung Heavy Industries (the world's 2nd largest shipbuilder measured by 2010 revenues),[7] and Samsung Engineering and Samsung C&T Corporation (respectively the world's 13th and 36th largest construction companies).[8] Other notable subsidiaries include Samsung Life Insurance (the world's 14th largest life insurance company),[9] Samsung Everland (operator of Everland Resort, the oldest theme park in South Korea)[10] and Cheil Worldwide (the world's 15th largest advertising agency, as measured by 2012 revenues).[11][12]\""
      ]
     },
     "execution_count": 57,
     "metadata": {},
     "output_type": "execute_result"
    }
   ],
   "source": [
    "nayidi = \"\"\"The Samsung Group[3] (or simply Samsung, stylized as SΛMSUNG) (Korean: 삼성 [samsʌŋ]) is a South Korean multinational manufacturing conglomerate headquartered in Samsung Town, Seoul, South Korea.[1] It comprises numerous affiliated businesses,[1] most of them united under the Samsung brand, and is the largest South Korean chaebol (business conglomerate). As of 2020, Samsung has the 8th highest global brand value.[4]\n",
    "\n",
    "Samsung was founded by Lee Byung-chul in 1938 as a trading company. Over the next three decades, the group diversified into areas including food processing, textiles, insurance, securities, and retail. Samsung entered the electronics industry in the late 1960s and the construction and shipbuilding industries in the mid-1970s; these areas would drive its subsequent growth. Following Lee's death in 1987, Samsung was separated into five business groups – Samsung Group, Shinsegae Group, CJ Group and Hansol Group, and Joongang Group.\n",
    "\n",
    "Notable Samsung industrial affiliates include Samsung Electronics (the world's largest information technology company, consumer electronics maker and chipmaker measured by 2017 revenues),[5][6] Samsung Heavy Industries (the world's 2nd largest shipbuilder measured by 2010 revenues),[7] and Samsung Engineering and Samsung C&T Corporation (respectively the world's 13th and 36th largest construction companies).[8] Other notable subsidiaries include Samsung Life Insurance (the world's 14th largest life insurance company),[9] Samsung Everland (operator of Everland Resort, the oldest theme park in South Korea)[10] and Cheil Worldwide (the world's 15th largest advertising agency, as measured by 2012 revenues).[11][12]\"\"\"\n",
    "\n",
    "nayidi\n"
   ]
  },
  {
   "cell_type": "code",
   "execution_count": 8,
   "metadata": {},
   "outputs": [
    {
     "name": "stdout",
     "output_type": "stream",
     "text": [
      "Python\n",
      "is\n",
      "awesome\n"
     ]
    }
   ],
   "source": [
    "x = \"Python\"\n",
    "y = \"is\"\n",
    "z = \"awesome\"\n",
    "\n",
    "print(x)\n",
    "print(y)\n",
    "print(z)"
   ]
  },
  {
   "cell_type": "code",
   "execution_count": 9,
   "metadata": {},
   "outputs": [
    {
     "name": "stdout",
     "output_type": "stream",
     "text": [
      "Python\n",
      "is\n",
      "awesome\n"
     ]
    }
   ],
   "source": [
    "x,y,z=\"Python\",\"is\",\"awesome\"\n",
    "print(x)\n",
    "print(y)\n",
    "print(z)"
   ]
  },
  {
   "cell_type": "code",
   "execution_count": 58,
   "metadata": {},
   "outputs": [
    {
     "name": "stdout",
     "output_type": "stream",
     "text": [
      "Python is awesome\n"
     ]
    }
   ],
   "source": [
    "\n",
    "##comma work like adding strings\n",
    "x = \"Python\"\n",
    "y = \"is\"\n",
    "z = \"awesome\"\n",
    "print(x, y,z)\n",
    "\n"
   ]
  },
  {
   "cell_type": "markdown",
   "metadata": {},
   "source": [
    "## operations between strings\n",
    "\n",
    "1)addition \n",
    "2)multiplication with int"
   ]
  },
  {
   "cell_type": "code",
   "execution_count": 59,
   "metadata": {},
   "outputs": [
    {
     "name": "stdout",
     "output_type": "stream",
     "text": [
      "Python is awesome\n"
     ]
    }
   ],
   "source": [
    "########################### addition\n",
    "\n",
    "##\"+\"  also work as addition\n",
    "x = \"Python \"\n",
    "y = \"is \"\n",
    "z = \"awesome\"\n",
    "print(x + y + z)"
   ]
  },
  {
   "cell_type": "code",
   "execution_count": 60,
   "metadata": {},
   "outputs": [
    {
     "ename": "TypeError",
     "evalue": "unsupported operand type(s) for +: 'int' and 'str'",
     "output_type": "error",
     "traceback": [
      "\u001b[1;31m---------------------------------------------------------------------------\u001b[0m",
      "\u001b[1;31mTypeError\u001b[0m                                 Traceback (most recent call last)",
      "Cell \u001b[1;32mIn[60], line 5\u001b[0m\n\u001b[0;32m      3\u001b[0m x \u001b[38;5;241m=\u001b[39m \u001b[38;5;241m5\u001b[39m\n\u001b[0;32m      4\u001b[0m y \u001b[38;5;241m=\u001b[39m \u001b[38;5;124m\"\u001b[39m\u001b[38;5;124mJohn\u001b[39m\u001b[38;5;124m\"\u001b[39m\n\u001b[1;32m----> 5\u001b[0m \u001b[38;5;28mprint\u001b[39m(\u001b[43mx\u001b[49m\u001b[43m \u001b[49m\u001b[38;5;241;43m+\u001b[39;49m\u001b[43m \u001b[49m\u001b[43my\u001b[49m)\n",
      "\u001b[1;31mTypeError\u001b[0m: unsupported operand type(s) for +: 'int' and 'str'"
     ]
    }
   ],
   "source": [
    "###what is the issue here\n",
    "\n",
    "x = 5\n",
    "y = \"John\"\n",
    "print(x + y)"
   ]
  },
  {
   "cell_type": "code",
   "execution_count": null,
   "metadata": {},
   "outputs": [],
   "source": [
    "########## assignment\n",
    "\n",
    "# how to solve above error"
   ]
  },
  {
   "cell_type": "code",
   "execution_count": 68,
   "metadata": {},
   "outputs": [
    {
     "name": "stdout",
     "output_type": "stream",
     "text": [
      "5 John \n"
     ]
    }
   ],
   "source": [
    "########## how to correct above issue\n",
    "y = 5\n",
    "x = \" John \"\n",
    "print(str(y) + x)"
   ]
  },
  {
   "cell_type": "code",
   "execution_count": 103,
   "metadata": {},
   "outputs": [
    {
     "name": "stdout",
     "output_type": "stream",
     "text": [
      "John John John John John \n"
     ]
    }
   ],
   "source": [
    "#################################### multiplication with int\n",
    "x = 5\n",
    "y = \"John \"\n",
    "print( x * y)"
   ]
  },
  {
   "cell_type": "code",
   "execution_count": 65,
   "metadata": {},
   "outputs": [
    {
     "name": "stdout",
     "output_type": "stream",
     "text": [
      "John John John John John John John John John John \n"
     ]
    }
   ],
   "source": [
    "x = 10\n",
    "y = \"John \"\n",
    "print( x * y)"
   ]
  },
  {
   "cell_type": "markdown",
   "metadata": {},
   "source": [
    "## **String Indexing**\n",
    "We know strings are a sequence, which means Python can use indexes to call parts of the sequence.\n",
    "### A string index refers to the location of an element present in a string.\n",
    "### The indexing begins from 0 in Python.\n",
    "### The first element is assigned an index 0, the second element is assigned an index of 1 and so on and so forth.\n",
    "### In Python, we use brackets [] after an object to call its index."
   ]
  },
  {
   "cell_type": "markdown",
   "metadata": {},
   "source": [
    "![strindex.png](data:image/png;base64,iVBORw0KGgoAAAANSUhEUgAAAjwAAACsCAYAAAB/9nbwAAAAAXNSR0IArs4c6QAAAARnQU1BAACxjwv8YQUAAAAJcEhZcwAAEnQAABJ0Ad5mH3gAAGf8SURBVHhe7Z0HfBTV2saf7Zvee+8ECIFA6L0XpShix4tgwYJ49bOLimK5eu0CVhRRQRQQVFB6DSlAgJDee98km+3tO2eyqwGjVyDoznr+/o5LZmZn5t33nPc8p8wZgcFgsKAbFst5f/bInzmGwWAwGAwGw14Q6PX6X9TLhUKGCRsGg8FgMBiOgECn0/UoeJjYYTAYDAaD4SgI1Go1p2zMZjO3gYkeBoPBYDAYjoZAqVRauosdW7LBRA+DwWAwGAy+IyCChikaBoPBYDAYDo3Q+slgMBgMBoPhsDDBw2AwGAwGw+FhgofBYDAYDIbDwwQPg8FgMBgMh4cJHgaDwWAwGA4PEzwMBoPBYDAcHiZ4GAwGg8FgODxM8DAYDAaDwXB4mOBhMBgMBoPh8DDBw2AwGAwGw+FhgofBYDAYDIbDwwQPg8FgMBgMh4cJHgaDwWAwGA4PEzwMBoPBYDAcHiZ4GAwGg8FgODxM8DAYDAaDwXB4mOBhMBgMBoPh8DDBw2AwGAwGw+FhgofBYDAYDIbDI7AQrP9m8ASby5jrGAwGg2GPCAQCLtkTTPDwEOoyo9EIk8lk3cJgMBgMhv0gFou5ZE8wwcNDCgoKcOLECZSWllq3MBgMBoNhPwwfPhyjR4+GTCazm54eJnh4yNatW7F27Vrs2bOHy0xURdtb1+HFQHuqdDod12sll8shkUh4bQ+F2qLX62E2mzl7pFIp722itqhUKq6HkeY7mviOzU80D1IfUV8Jhfyd2kh9Q/2k1Wq5f1N7HMFPF8YIGvP47CeKI8cIkUiEhx56CI8++ig8PDzsxldM8PCQHTt2YPXq1Th8+DDCw8Ph5+fH68Lf2dmJsrIyKBQKREdHw9/fnyv8fIUGrdbWVtTU1HCFPzAwEKGhoVwQ4Cs0TNDgfPLkSa7iiYyMREREBK8DtM1PtbW1XN6j9tC8x2eBYBM7hYWFMBgMCAgI4Ozie5hXKpWoqKjg/BUTE8PFPD7HCArNc7YYERQUhJCQEIeIEdnZ2ZwofeCBB7Bs2TImeBiXh03wUJGwePFiTJ06lWsh0GDHN2gBz83NxRtvvIGsrCzcd999mDFjBheo+QitRKkvqDBYv349cnJyMGfOHCxatIgLAnz0EYWGiYaGBtx9992orKzE7bffjqVLl/I6QNNegszMTGzatAlHjhzBww8/jAkTJsDb25u38+PofdfX12PFihXc5+zZs3H//fdz4ofPoT4vLw/vv/8+jh49iieeeAJTpkyBq6urdS8/oTZ9/vnnOHv2LBYsWIBrr70Wzs7O1r38g/ZY0Ty3atUqrm6iMeLBBx9kgodxedgED20d0CA9d+5crjLloyupQKDzkZ566ikcO3YMK1euxHXXXYfg4GDeBmgqAjIyMvD2229zFeott9zCtXZogOarTVSoUaFDxXV1dTXXVf3kk0/a3aTEi4EG4QMHDuDDDz/khodffvllzJw5kxPbfBWmtNIpLy/HPffcw/npxhtvxLPPPstbAUehZYY2IF544QXs378fr776Kq655hr4+PhYj+An1CYaI2hDjzaI7rzzTri5uVn38g8qqmmMoI1WOs+UNsbtTfDwdxyEwYkFWrnSSsc2BsynRO+Zpu69BNSWno7lS7LNqaJ22Qo5/eSrj7onagMNalQM0H9TW3s6ji+pu49oWaL/pnmR736iNlB7bHY5St6ziVBbeerpOD4lakN3P/V0DJ8SzWM0UVtsdtkbTPA4CLZMxrf0R/R0vL2nP6Kn4/mSbPdvg/6bVjzdj+Fb+iN6Op4P6X/R03fsOdnuuTs03/E979HUnZ7+5lPqjk302CNM8DgItNuXr8MlDH7QfZiHDpHQ4RMGg8HgC0zwMBgMBoPBcHiY4GEwGAwGg+HwMMHDYDAYDAbD4WGCh8FgMBgMhsPDBA/jF+ikZ7PJBJPJzCZAMxgMBsOhYIKHYcWMztYGnDtyAHsOn0F5qxI66x4Gg8FgMPgOEzz/cGw9OZ0NRUj/+Ss8t3IVXn7+OWzZm4nSJhW3z7EwoaOjnXuPjVqttm5jMBiXhEkPnaqNe+2IRqPh7QrVjH8GTPAwONRN5Sg8dQjf7zuAg/t24tjpQlS3OJLgscBk1KC+IAs/bNyADz78FF/vPMiJOqOZDd8xGBeLRduOmtxM7P72S6z94EN883MaSmoV0BlZeWLYJ0zwMDgMGiW0ylboiDCwkP8rlJ3oVHcNajnEfB6LmdjYhrP7NuOTt/6Dlc+/hDc+3oijeY3QGUycjWzeEoPx5zF2VOPUvu/xwX9fxaoXX8Er721CWm4t2nWsHDHsEyZ4GP8MLCYYVe0ozD2Cuk4i7DSt6Kgpw5miJhiMXd3w9rocOoNhj2jUjcgvKsKZ3CqYDUYU7D+J4uoOKAysWmHYJyxnMv4ZCCVw9g7H9Xf9B088vALPrliJJx57GPfP6w83J/t99wuDYa+4BKfiukXL8Pqbr+DRxx/B2+tX4cYpfRDJ3xd+Mxycf4TgoUMVSqUSra2tbKLqPxYB0Txy+MYOxKAxEzBp5kyMHTsSod7OEAn5JHYsMJn0qKurQ1tbG/R6PbfNbNZz+Ztur2tuR7uGT5NHTejs7EBDswItKjN+M6WKDjUaVWhpakBjWwdUJut2O4ZO3qX+aOrQQqXvMqjHIdNutrV1dJBfgj+IpK7wiUrEgDETMW3KZMycOARRgR6QiawH2DvW317R2oza2lpUV1f/YaJlq6Ozk1c+spUteu82O2i+1On+mc/g8k7w0Ily9ZUFyD6VhRNn89HSqYfRoEdzbT3KS6qhJrnx/LBigVGvRvnJ3fhpXzpOlzTAYN3D+H3kIhGkIgfSwxYzjDolivMycPjYERw9U4jiZjW0v8kv9owZnW31OHP0B3zy8Yf4dNteZOYXo7GhFKeP78bmrz7ERx+uwYfrv8K3e48hr7YFOrqmkvXb9oqqqRhZe7fji48/xRc79qKiVUPu27qT3D2dbF6bcwxbNm3AJ5u2Y8/J4h7Kuf1gNmqhbCrBnm8/xacbvsSOI6dQ0tJDQ8usg76zCqcO7cCXn3+Cb3fuQU5VA/EyPzBqWlBalI1DR/bj2PETqGnXEr/xpTTRfKXm8tXWjZ9j7dq1fyrt2HcUpT350s6wmE3QNNYgN+sQftj8JdZ1s+HzjZvx04F05JbUQamjcxetX/oHwKMajXqFtGzzM5F5ZB/2HjqCtGOZKK1uhbKtAdnpR7Fr1z7UdJJCZzByb3K2Jb1GiZbCYzh2Ih95NR3QktaXwWDo2kdayHqjCb8+WNC1jypgmuh++mbof9aEViHcZFI4ScTWvx0AM/Gpog5Hvl2Nd157AS++9hE2fZ8FJak4efOQlsWElpp87P7qVbz2yio89+Yn+GLbDuzbsw3rP3iLbHsWL656Hqteegn/fe9DbNqViUalDtYpSnZLQ8Fx7NrwPl574QW89s67yChtRYfWetOk3OnV7Tj54xd4/61X8cJ/1uDzLYfRQgK1vfrNSBplDUXHsP6dVXjphWfxxgef44ejuWglKs1ku2mTAdq2apRl78Rna9/Aqy+/iLc+3YSfTpWAzvnlQ5ZUt5Tg2E9f4e1XVmLVK29i09FC1LVpuVhp//GSxHmtAmf2fo21JF89/zwpN6tW/WFaufJFfPrtTzhD6hB7xmzQQdNcjZy9P2Djh6uJf17Ef1YSH1ntePE/b+DNNZ9g0479OF3eBg0PGkW9BY8EDwmAlnp8tfpl7Nx/GpLgVAwNcUNFcRnqSjLw888b8P7XnyKrvAqtCgXa29u5pFC0gz5sNGb2vVj8r3kYMygCAoMeLS0taGsjgamhAfWKDrQbqMtppCH7Wpu4Ls7a2hquK1ClVv8j1pegz2fRoR/AGU5uLpA6SbjtDjG/hYra9jaUZhyDqrUFirw61KeVWHfyBFJJ6ttq0VqWBrNRj7bT+7FtzX/w1NOr8OZnu1FcTUS6QQBDSyVyd/2A9574iAQ0JTq5vG1/2CrFqpJiFNfVcpPJ2/PTcTqvHu2ddKiOYCGNEmULMg79hNamBqhKa9FwogjNnWbYa2eCQa1EY0U+suqMUNRVIWPTF/j4P+9j1zkFtNaWlamzEeWZP2Pdf1/Auu9PoKqpE40tahRXdaDDQPbzQIUrG8pRXFiBosp20khU4uzZKhJz+TJlgDaG21Bcdhqd6g4uxv02WQ+1IfAi21ytf9gvhvZ6VBzaiNcefQRrP/4Gxwqq0dHNrqbKAuz/7jOsWfMW3tt+AnUaPQy8EKmXD38Ej4UIDnUbzjXocbJSjTajBAljxmPSmAEwNDWipboOrQ0tSPv5IHLyjmHt8/dg+T1L8czqzdidX4EDh9bhg0+24uDxHOQe34OX587Dq2vItrWkVfzKf/D254fQ0KFE3vev49W33sHTTz+Mp5b+C7fc9h5OkYpEZXKg4Z0eMNCeLq3W+pdjQrNQh4rYaiR/uMgBD5euHbxt3+jQ3NKB6toOSOQu6D9tIZYsWoAxQxLIvnboDSeRdqYQLW1d6ynZW0ATCOj9KFBWWYv6pvaubUIBPFzFkIh/T2TTCSL23fPo5B2EfuPm45W75iApKpBsUaCo4BD++8qbyKpoR2N9EQ7uWI833nofnx0kIk5HMqZPP4wdNw23TB8Ob7GFF/PKNC11RIy2Wv/iG1LIXCIwfvEK3PnvJ/Dwww+fn5bfiauHDUKI9WhK0MjJGDphHIZE+Vi32Be0fJuJkC7O3IfVb76DQ82dUJCsFdRnCKbdsgxPPfEEXnjkYUwbloQADxkUFWXI2PAxyquVUFvnmTk6PKrFSaCTBmPitPGIkrfi0Lo38eSrH2HX6WqI/MMQFBCLMJ8oDB45GDFBrlA2VnKvRgiJ74N+IT4wtdSiqakFHRoN1B0K1BQUwegejAEDhsLfqER95h6UVdTh8Dc7EBAchPHjU5AY4492ixN8nMX8mYh3iei05HdRKa1/OR4WC31HmBpGW/etmxTwduL2dfVq8QShFAKJF1UG5A86/GqExC0QA6bfjHvuW4wbrpqI+HAapo1E2HUgv6weSpXOTltv5J4sGmiJ0NbrqQoVQiiQw8PLHRKpVdQIiL+EpMGhsMDITb6jvrJvfwnFTnAPSMDUm+7EnddPxPBEX2jaqlCYtg0fv/8e3nr6Rby/+kvsSi9EfacQpojx+Nc992HJDdORHOoBCRE7fMiRtJfRbKR+IzYLBHBzkkEs4kugFEAscUFUwkjMnnMdFi5ceF6aPTEFwcEe4AavhBLAcyDmzpyFmSOTEOjS1fNtj7TXFuB01gH8cKYGzVoTAgaMw7ybbsO/77wZ86ePR2SQDCZSkLRkn1FnQkeDFloidv4pC2TzR/DQAC/xxaTpszH/qvFI9DUiP20n1n97EM0WF8h8QuHm6Y9+g/ohLNAbMokb/IOjkZTUH33I33LiUZGIhBFry0koEiMgNA6DBo5EtJcTRIpydJIM0NnRDpOBRlY5vALDMXhKKoI8ZZA6dgcPqUwMMHAz9+nvQwu0YxlspkMjBhW0SlK4qXuJQ4XOIsiImb/purZjqG4hmo375JB5wC+WtOCu+xeumjAMSbER8HR15naZyUGKdg2xu6tSsk/ovdmirZyUy0B4eDsTwWOtOKngERigU9EKlh4igchV1uW3riPsECFEElcE9R2BOdfOx6xJIxDjJ4GmsRA/ffM5vvzyW+xOy0Gd3glByRMw/9bbsfjmuRg7KBYeMv5kRqNJBINZyHmQDpU4SYlvhPyJGwJSp7g4eyM6Og79+/fnUr/EPoj1k6GltAwVNaSxQI6Typ0xbOp8XD1xBJIj/Li8Z4/QOFZfVoCcExkoV4kg8ArBwGETMDSpL7wMHTh7+DAOHE1DSXUjVDoL3H0DkDRmFAI9SHn63R5Vx4I/uZMEb4tBA5lXHCYuuAMPPXY35ifLcO50Dmpb1NCQFryOtOBVavrUFmnNG0hrw+IMuYi05K1Y6Li4taKgLRJnsezXAioUkQrQBX5R3sg6cRLbd55CVZsYk2akwMmJtKr5VCteAiYTETxGm+Bxgpj8HmIHstlM84dBh44WCwx6YiV9Ck0ihou4y2K+QFvV2g4FKQ5dIkHmE43ogRMxiwRjf5mUk6r8xYmUs2C4uJG893ujVq5yiLxd4CK08MBvIoQlT8GEiZMxun8YzCYjGisKUa5WQil3R1B8KqbcfC9efOBaDI0LhJw/0ZhDrxdDYxSBzraivpCR/McnwfMbzHRx0laUHvsOX3y2BWnp+RBJneATFou77pqPQX3D4CK151ynR11FFUrPlUJA4rfcLxzBRMzU557CuvfewzNPPI91mw+hUSOEX3g8UseOxS33zkOfIFKeJF3zexwd/uRO0rwzNRdh556j2Hv0DBobFZCQAjZk7CjExIShj7MBAR11OEuXNm9Tw9zRAoGu0/rlLkxaE8z6nvvu1HoNShqqcPpMEQIiozDx+htx1XXXY3SUP6RiBx/PIrQrW9HUUmv9C/CWiOAq5nHw+h9IXJ0h9XS3/sUf6LCOuoOK966/w+ISMXL0CAwJJC1R3mdT+iy648wj44YRJXIE+gchJiTIurUL7+gRmDjnLjy7cDqiPJ1434MsIg2IkOBA0jiUWbfwD4ueCNHKbHz1xUfIqixHG9nmHBSLPnPvx6yUUAS623lzwtLGPYhT30gkKKkvRQ352L7+Tax6+Vms2bINJaS6N8IPyePmY8nTr+LpVSuxaFwMXGQO9DTu/4A/xUwohsiXZD53HdRlWThOhI24//V44OZxiAuPxdh51+DaJXOhzD+J6hYR+s1ZiHGzpiHWzxkiEnSCB07GtbPGYlTfcITHxGPCvXchIS4Ibj7+6DNmIiZdPRN9SBNL6OwPraIFldkHsf3LdXj66XdRUNUGrZ0+6XK50KB8/vwOqvLpkMj5taftOFuiT62d/z0ewrMGjV7TCmVTHToaiD+sgicqlASwhHCuZ4eX7TMBrSBteY2+bbsK7QojuFFlHkPnjAkEKuSkbcD6zz7Axu8zrHu6UJQV4FzaYRwrb+SWxXAc+NpLYEZzbSl2b/kEm4/XorbNAA+/BIwaNRsP3DQDbi62+X52DGngN3doUE2Hf0l8Vio7rIvtCuATPBCzFj2I1z55Dy8/txxL5oxCSoQXyacOEMcvAv4IHoEAAokzovslY+io0aRVOwbDR47FoCg/eDg5IyguCSOnzMCUYQMQGh6DkZOnYWhqMlHlRChJZAhMGI0xYwahT0wIAsLiMOn665EU5gE3Nw/EDUghGXsIvITtyKg0QOYbisiYcIiFRuScOoVGlQG/0zHkIJAWATVQa1P6Ioic3SGS/VrIbY800idr9Hotmpqa0dxpJMH6n1NY/m7MJgNMBj2MxF1dMcobzs5u8PAglUwPQctEgl55CxFJeoNdPodmsdDK0R2BfsHw8vQk/zYRIadBe2snDDrrvCN6jIBvA3UWGHVqFNMFBT/5Gtt+zkRpswZSsTcGxYXD080JBk0Dis8dwRcbtqKgQQU1K0d/C7bKXtVUghPHfsbqzYdQ3qiGzuiCqKShmHDVdIyM84NUJLB/YWCmD2aY6QocHHT9OL8+wzHt5jvxwP8tx7LFN+GameOQ0jcGYX7ukAoNaGpuQbvBDAdtz/8G3nWkeoVGo8/AVAxJGYiEqBC4S0nlTGKizNkLwWGxGJLcF0GBgYiKikJwgC+cpaSSForg6hOO0LBAEljd4OLmjZjERAS6SSGTSOHjG4CIiAjy6YOEgYMRFhQAX28/hMUmYsTYVHi706cPrDfgkJAK0UiUvp4YSSeHu7jA2dUFUqmYFB4tOjqbUV1TjYL8s8g8th8/btuMjz/5FB9/vBMZOVVQqOgoPr8wExFg0vJreXWRSAgLycvt5La7lmlxJSVYSlz2a3eIUO4MsVTOPbhtJgFPWVuFTo0aBqtgtS/o/TiRMukOV7pMAGllm80GtLepYDB0RW1qg6FTBaPW8kuvln1jQkdzDbJ2b8dnn6zH1h/SkVvRAqlPIIZMvhb/WnQ7rh7dD1H+gKKhAIe3b8Knm39CUXUzrysdOkFeqSRC1frUFp/Qt1Yj6+BufL15Ow7l1EFH8l5wQirGTpmKSWOS4OcksD3rYt+I3eHv7YYIP1pZ0Rt2hk9UMkZOuwrzr5uNicOSEOnvCSezGvXFZ3Bg1zZ8un4DfkwvRkO7xi4bRb0Nz0eOew/6Xhj/iGSsfPIeDA7zhtggQHT/VCx75B70DXaHs0PPYjfDRASPgUZcmiOIEFSSIFBZeBbZ2Zk4ePhn7Nj+Hb7asA5r3nwVLz33NJ584mk8/uCL2L7nFGoUmq7T8AijRguDsmt9Gr4gJqrbIhKhjQiersamGGIieCTiX3tAJF5eRKy6gg4UCYhYcGmsgFatgj2/WkvmJCTimpYv0jo1dqKsoAD5ubnIJelsdjay0zNQr6Aroncdb6/QHgCjrh0lZ4/ig9dewhsb96KoUQ13v2AMHjMBtz/yKBb/+0k8uGQupqZGwl3Yic6KdLz96uvYdeQkatrUdruY4v+CDqE0NdN3NPGn8UOHHQ2qFhQf/xmbPt+Er7anWfcAYQNSEBcVDGdlLfLy8ri8WFpZg9YOlf36SBqIPonRGDU4EHIieARwgba9HW31NairqERRURHy8/NxJvMwfvj6U7z18vN4ZuUL+GhrBioaOohdF05vcDyY4OmGSCyDf+xITJkxF/Pnz8eUsSOQ4C2ExOF/JQ0UpFXdQCe7mUhqSMcnq5bh5jkzMHXKHFwz+zYsW7YcL7z8Nj77djey8qvId2ivQi5J9r3MuiOh1xkhNOgR7k7yKpcnPeHlHIQA918XQnNyknCTEK39JWi1tKGxQweV2v4Cma3HKSwmFr5Bwdy/Ve0KrHv2Tiy+cS5mzZqFGTOvwQ3/egzft7ahmTvCPqEVBbWnvSoXmYd3Yv3hXKh0Brh5ROOqG/+Np1e9gkXjojnfDJxzO66+djbGxLn8Ut7e37gD3xzOQzsRdY5e6dgHFvLTd6AmayPeWvU6vvv+8HnT5TP2f4VnH7sLV199Na666ipMnjwZSx9bhe1HT9u1jyKHjMLw6dcimpR9MSkxxYe/wBuP3IG506dyttA09qobsXTFu/gpvcD6rX8OTPBcwK9zVWjq6hh0ZDg74YaI2FD0TemqdEhpRnsbqWCam9HR0fHLO8nomDBtyfkERWD6rQ/gyVWv4ZrJwxDhY/8T+kQCEeQiJzgTa2mHr5eTEwLd7H+Z+O5IxK6QO3lBSBeItmZMuZC040gppn7s2uAKP4kTwsg/aUxWdwqI72h4t99K1C92OMaNGY1Jg0LJX0SmmTrR1FTPvd6lWaFAh9H06xuq6QQFvf3NaLb9/jJnJ7i7ucFbJIFrzBBcc8+9uPnm2Rgc5cPFE4pA5IvUcfNwy+23YmQ0+Y7IgtqjOajILkMbr95y/yt0TRu5VyBEUiq17R/aE9dYnIU1L3yEA+dK0XTBqzwsbU1oq63i3i5eU1PDxcL03cdwYN8Z5Fd3/lre7Awnn1gkT56HZc/ciilDAuHtIiJxW4POzpZf3pbeSYeISSx39Q/HsNmLcN/80YgP9iIxsqvec2SY4OkBTgT8A5xP4WwUyBDZfximXD0fs1KTucW3YmJi0LdvXwwbNgyTp0zBglvvwIMPP4IVK1bgyccfwbIlN+OmBbPQNzaMF481CogIcAmMxuh5E9AveRBSUwZiyMA+nPjhi5eFMiJmYhIwfM40RMfGYNL8sRgyOgEeTt2KscgLiUkDMWX6OPQlfpwwMhV9QrzhbscL2kndAzF8wlVYeu+9uHPh1RgyOB6xsZEkxSJpcCrGkHx56/XTkTKwH5JSEpA8JAYeznRVZusJ7Ai5ZwSSx8zDY8+swDP/dz/+NX8qBvcNh5tc3C2eSOATkojhk67FwoVE9CTHY8S4wUhMjODVwoPBcSQ+DE3B8KGD4Z8yFROHhMLPo2vdM3uPnUKLkHhBCqmzF/zDoxCdkICE7ikmGrFRkYiM7Eo0HvYZEI/oGCIiXCV228MjlLgiICoZM66/C8uXP4KHFt+Mm2eOwshBcb/YkTxiLOYuvAP3/99juHvJLRjVLxhezhKHb9xTRM8SrP9m8ITCwkJkZmZCqVRi1KhRJFAmQiLpmsdxaYFGCCdnD3j5BiPQNwCRfZOQPHAQhg4diuHDh2P4iJEYM3EKpkwYhzGjR2LwoIHoEx2GAF8PyGWkoFxmcKMt+b1796KqqgqTJk3iVjx1I63k3oROXBfJnOHp5w73wBgMHDYSw1L7I8DtyjwBRG06fvw41zpMTk7GiBEjIJNd5holIhKknekK4P5w9Q7HxKumY9iQvvB3d+rWcpHA2dkJPsGB8I9KwMTx45DaPwo+bk6XFdBogG9ra8O6detIC7ETY8eOxbhx47j1Vy4bgQjuXn4IjyQVT2Qo/EPC0K//QAxOGYKhw0dh1PiJmDQiCSGhUUgmeXLUqMFICPbmHla4XMrKynDixAnucwoR9vHx8ZeV94QSZ3j4hhDRmYTU5L6IDiG+kv924VKhWAZnd29iExE5Hj5IpU+VDklEmDedfXHpgoH2wCoUCnz//fdc72wSuY+JEydy/qPnvNyy2h0nFxe4e3jALywGkQPH4dpxJC+60sUHe+8aNmh52r9/PyoqKjB9+nSuMebs3LWi+KVA+7XFAgnEzq4ISUhE3wEDMWjQoD9Mo0j8GzV8IGJDfUGnnPVG3KMxgn6mpKQgNTX1lxhx6eemr8xwInkwFDHRpOEQGU5ETiSi4vsgod8gDB48GKmjx2Hy1OmYMnEckhMiiNgR94rP6AgAfWH3zp070dTUxP1mNO7J5SRP92K+uyxIQWDwjO3bt1tIobcMGDDAsmHDBotKpbKQQMclPmG75/T0dAsJyhZSMCyvv/66hYgE6xH8JSMjw3LjjTdaoqOjLaRNYSGBwLqHnxiNRktRUZElKCiINm0tTz75pEWn01n38pc9e/ZYrrvuOou3t7flww8/tJDKx7qHn+j1ekteXp6FiFEu7z311FPcdlIZ8S4+ULrHiGnTpnExYs2aNRZSoVqP4C+2GBEbG2t56aWXuBhhs5dv0HvWarUW0hjn/BQaGmp5+umnLa2trVzesxfYkBbjPEie4FqJNNF/d0+OgM0+vtvzv2zgs522/GdL1Ibu9vDRpj/CZhdfsfmGj9ju/c8kPvqI3rMt8dmO3oIJHsZ50K5HoVDIJfrv7skRsNnHd3v+lw18ttOW/2yJ2tDdHj7a9EfY7OIrNt/wEdu9/5nERx/Re7YlPtvRWzDBw2AwGAwGw+FhgofBYDAYDIbDwwQPg8FgMBgMh4cJHgaDwWAwGA4PEzwOgm1iGoNxpaATHm3Q9XfEYvtfcJLBYDBsMMHjIHR//JBP6Y/o6Xh7T39ET8fzJdnu3wb9t+0RV76mP6Kn4/mQ/hc9fceek+2eu9P98Wo+p+709DefUncMBsNvttkLTPDwGJqp6OqW9D1XNJPp9XpeJXrPNFEbbFBbejqWL0mn0/3iDxqUKfSTrz7qnqgNdEVv2tND/01t7ek4vqTuPqJlif6b5kW++4naYKtw6Kej5D1bD6OtPPV0HJ8StaG7n3o6hk+J5jGaqC02u+wNAbkx+7wzxu+yY8cOrF69mlsOf/HixZg6dSpXEdmCN5+gQyO5ubl44403kJWVhfvuuw8zZsxAQECA9Qh+QYcVqS9OnjyJ9evXIycnB3PmzMGiRYu4Jdb56CMKDRMNDQ24++67UVlZidtvvx1Lly7tnVdL/E3QITn6ipZNmzbhyJEjePjhhzFhwgR4e3ufJ8L5BL3v+vp67p139HP27Nm4//77f6mI+EpeXh7ef/99HD16FE888QT3GhBXV369/PdCqE2ff/45zp49iwULFuDaa6+9rNdl/N1QAUfz3KpVq7i6icaIBx98EB4eHucNh/+dMMHDQ2yC5/DhwwgPD4efn5/dZKhLgb6biRYQ+g6g6Oho+Pv7QyrtegkhH6Gip7W1lXuPlkqlQmBgIEJDQ3ktDmiYoK04KuRozw59EWFERASv543Z/ETfZUTzHrWH5r3LfufZ3wgV1FqtlnvfHhU5tOFA7eJ7mKfvDaTv0aL+oi/ApDGPzzGCQvOcLUYEBQUhJCTEIWJEdnY217h74IEHsGzZMiZ4GJfH1q1bsXbtWuzZs4cLzrSlyueKh7ZKbUNBtKDQHhI+20OxdbnTCojaQ4Mz322ittDgTEMGzXd8FgY2bH6ieZD6yDZkx1eob2yih/6b2uMIfrowRtCYx2c/URw5RlDh9tBDD+HRRx9lgodxeRQUFHBveC4tLbVuYTAYDAbDfhg+fDhGjx7NCW57EXJM8PAQ6jLaOuDrPAMGg8FgODa0F87elq5ggoeH2FzGXMdgMBgMe4T26tjbEB0TPAwGg8FgMBwefs/6YjAYDAaDwfgTMMHDYDAYDAbD4WGCh8FgMBgMhsPDBA+DwWAwGAyHhwkeBoPBYDAYDg8TPAwGg8FgMBweJngYDAaDwWA4PEzwMBgMBoPBcHiY4GEwGAwGg+HwMMHDYDAYDAbD4WGCh8FgMBgMhsPD3qXFQ5RKJTo6OqDT6axbGAwGg8GwHzw8PODp6QmRSGTd8vfDBA8POXfuHE6ePInKykrrFgaDwWAw7Idhw4Zh1KhRkMvldvPWdCZ4eMiWLVuwdu1a7N27F2Kx2K4U9MVCC4LZbIZer+c+JRIJZ4+9FJBLhdpiNBq5T+ojmvgODRW0V5F+Uj/x3Saax0wm0y9+ojYJhUKHyHsGg4HzEy1L1C6+Y7OJfkqlUl7HPBvUFkeLEWazhfhJz/37oYcewuOPP8719NByZQ8wwcNDtm/fjjVr1iAjIwMDBgxAVFQUt52PrqQFoaWlhbOlsbERgwYN4uxxcXGxHsFPmpqakJuby9kWHx+P/v37cxUpn4ubWq3G999/z30OHDiQS3yGVpp1dXXIy8tDbW0thgwZgtDQUDg5OVmP4B+08lQoFEhPT4dKpeLKErWL79DyRHu1aYwYPnwEIiLCOeHDZ7rHiLi4OPTp04fX4tRoNKG9vZ3E8nSuIXHvvffigQceYIKHcXns2LEDq1evRmlpKRYtWoRJkyZBJpPxsjKlIoAO0b3zzjs4ceIEHnzwQUydOhU+Pj7WI/hJfn4+Pv/8c5w9exZz587FjTfeCGdnZ94KHnrfDQ0NuPvuu1FdXY0lS5Zw/+YzNAjTSvTbb7/FoUOH8PDDD3Nd8N7e3tYj+AetaGpqarBy5UrOXzNnzsTSpUute/kLFQY05mVmZnK9BpMmTYabm6t1Lz+xxQhq2/XXX4/Zs2dzMYKvULFN89zzzz+PiooKLF68GMuXL7crwUMDGYNnbN++3TJ9+nTLgAEDLBs2bLCQlpx1D78gBYT7JK1Ry5QpUyxyudzy5ptvWkirm9vOZ7Kysiw333yzJSYmxkICgIW0fKx7+InRaLQQgW2JioqyiEQiy9NPP20xGAzWvfzlwIEDlptuuslCRI7lk08+4X3e0+v1loKCAsv48eMtsbGxlhUrVnDbaVmzlTc+YbvvjIwMy4wZM7gYsXbtWktzc7P1CP5iixEJCQmW119/3dLR0cFrP9G8R2PE5MmTLSEhIVyMaG1ttRARbj3q74c9lu4gEF/yNlFoy5RCCg6XKD0dy4dEsdlB/7bZduFxfEk2qB1arZb77Ok4viUKnUNB54ZQbHZRLjyWL4lis+PCsmT75FPqfs82W6jP+JwHKfTT5h9bubLto3Q/ng+JQm3p7ht75JIFz4UGX5qB9HtmGPR6mMiPZTvDr+eilQUJSHRil3XLpXIp90lkK4wGPbm+CURzW7f+Sei1zEboDXRS2qX8NhcHHRrq7UQMgNlo4CoEbsIg/Q16OO5y0h/R0/GXnWie4golzW897O+F9Hv0dOzlJpqfaYCh/tEbaD7lLvSb4y4n9QTtorZNLu/tRG2yCRE6L+Cv9hOlp+MvP5EiReKZkdpFK4UrYJft3n+PC4+/5ETOZbbaYosPNNaRtnyv5j/bPXeH5jua/y48tteSrd65QvmPYvu00dPfvZEsZhOJd7/6yJZ6O/51h86tspshrAu47Lu6WBHRHYuJFBJlE44ePYLS+haoSUP4vPMZVKgsLUR2Ti5aSSPscnXDn73PruNM6GxtQN6xQ8gqrEKb6uLWvLHolVDX5OLAsRzUtSrJ2a4sl+qDP0LTUI2yrKPYv38/Dh8+jLLGVs5HvIUUfrTV48yJDJzOL0WL6nJl9N+NCa2tzdw8oX37D+LnQ2dQQfLaX7E6k61l2tvQ87a1tXHzuWi+yzh5GnXtJGgTV12JPP5XYiYVjSLvBNL278HJnCL+5j/SEIKhHTU5J5B1cB/np7379mPb7qMoqFM4RIzIzT6JgwcPnpf/+IcRipozOJO1n/NR9+QY8e/iuUTBY8KZtB+x4aO38NJLL+HpZ57Ffz/5Bmeq6qGxHvG/oMHLqG1DbfER/Pe1V7Dz2HGUFZ/GuUO7se6z/WhXaaFqLcKuHVux+uPNOFvTAMMlBlijToPCw9uw66f9OFVcA611++/BKVYixpqKz2L3h//FruxyNHVeXDWiU7eh7Fwa3nxlI05kV0Ktu/LBujcrBF17JX7athHPPL6CmwD5zDPP4InX1mFHWi6URv5VPkZNC+ryduGtlQ/i+WeewMcbt+NkaZN1Lz9pLU3H5nVvcpNtV658FquefRhrv/gJJ4uaOYF9JX1Ez93r5zd1QlV3CusfXIaXH3sMzz33HJ5YsQr/fn4NDpZ2ol1/fkuST1j0arRXnMV7z72Il1c+j083f0/yXyPvyhEH7fklDdUfP/sMrz27kvPT8ytfxKsvbMDJM9Xo1PPQJoKJNFIbSzLw5iMP4VmS/5599lm88OaHeHdXITq1XcOe/IH6QIezR3fgs9WvcT7qnj7b/gPONim6Dv0HcQmCh/6QZlSe2YOskxkoUVjg5+WK6kObsedgBvIrFdCpOlFXXID83FzkFlagkbQ6aQea2ahDU3kJSosKUdtAe3TEkLl6Izo6Br4uTmivLcGx/T/hiy924sSZQrSpAS8ff4QF+kFu0qOiohyNik5oSUtJrW5HRWUVWjsNRAjpud6YqqJ85OUXoLxBAY2e1MpWjAYdqnIOYd+RUzhX3oQOtZqbRU4fcSwrK0NJZS0a28nFqG0mLWqqq1BYVIKC/Dzkn81CeZMSaj2xQNcJZVM1CgoLcYYo5OZONQxkW0dzHYrKG6AzmqBqq0V1XS1qOsxw8gpEbJQP3J1FUHd2cDPYaSouLkZZbSMUah35XeiwkYr8LsXc71JUVITSiipUtyhJq+LvCBxdBaXwxG7sycpCrskVg0cMQ78wJ+Qc24u0jGw0qLvyAH8wQ69RoaW2HmoR0FxSQPJKERraVNb9/ESn7oBYJkNEfAKGD06Aa+NJHDqUhhP5RNTzrJXNCSia94TEVxJvJPYfhOED4uFmasHP2zcju5iUW82vZZpfWKBpr0PpyV3YXVmDs6dzUFVagVaN/jfDAbyA+MpMBFxZeTUMYlf0HzoGY8eOxuRxKYgI8ICcp0vktFWX4djmj7D5XBvcwhMwaswYpA5KQqSPBCIhH8W2CD4hieifMor4ZyxGjRiKBC8tqmraUNOsh1DE/3V/LpaLFjy2Bom2pQhaswDhKVOw5LYFiFZn4sTxUziTW4Lasjzs/WEPTp06hWMH9yPz5FmU15GA1VSCgz/tQ3r6SRSUVJAK3wwv4pCxqUMRE+ALg6qDq/BPnTqHc0WV0FjcEBudiKF9Y+EGI07+vB0ncspR36ZEExFH+3/ai+LadtSV5+BcdjrS0rNwlnzuOZCG8vpW6KxBn45jdraRgFPTgiaFGs21lTjw7RYcy8wm18rE/mMZOHSqBGqtHm0V2TiUlo7DGaeIEKpCkw4QC8jPRIfXiIjLOHocJ0nAykw7iMy8UtQ01qO+NA8/bt2LkroanM7aj6zsbFS0W+AdHInBQxIQ6C1HazX57rH92JN+FufOnMCu3cdw/Ewx6hUtaKzMx9H0U8g8fgR79h7AroMnichqh/Fv6Eelc6oADfIyd6OiU4v42bfh+Refx9PLFyJB0IJWItZqFAYSqLuOt3e6WtCkKhXIIHWPwbSbb0FKVDh8+NtZ8Aty7wiMn7UATz7zDJ576kFM7+eL9rZm1LQoYLSWU77AVfxCGSSe4Rg0dx7m3Hgj5s+cinH9Y+AvM0Jm1kLI5U3+QXsOqkrPYdfe/XAfNxphQQHwlYogdeL3OjIiJyfEJA3GtDnXY8GCG7B42U1I6RcKdym/ChcXIyx61JcX4Ocvv0Fb2ECMunoubrr5Btw0bzquHhwIJ+IvfkF9IEfS2AW448Fn8fLLq/D8M/+H60ZFo2/yaMTFDESMt1vXof8gLmMOD/kqCUAmgwE6vQF6uYHGK2iaziHrwFas/uo4aVeL0XhyG3Z8+w2++iENVad34u2PdpLWWgvqGxrQVJ2LTkUZPnj8cew8kgmFXgAPuQdEYk8Eh0dAZmnFsS1b8embXyK9ohZnP/8vftiTiTMl1ajKzcLmj79CXlkVjn79Hr7eug17S9sg1tZg8+r3cORkIRp6HEzWoDEvE9898xw2/ZiGuppi7NtzAO9/vhuV9Qqc2PImvt6TjtyaJgiMKlQ1C+AulsKoKMbXm3/Efz86ACVpPguq9mLTln04eKaCCJYS7HjtDXy75zt8vP5TZGSegpa0vstP78Gjj32DzKwyVGTvwY+b1+K/32WR8zZh05rP8NGn24nQOo2MH7/F+lMtKCYFbveeY/jy+7PcpC+uxfsXwwkZsw56VSsCXN2RGBILD5EUgeED0M/FCc7tbWhq7CAH8SMAdLWgRXDxCkD8sFFIGRADd7kzLHztLOiGV3AiCVyJiPZ1h15tQCMJcDJ/P3iTQObCw8abQCAlosYJru3p2PjpW1i56h3sPVSF8eNvxZShofDz5KNAsEDdXISM9GN4d1cn7pw/HYMigkBCJa8RkP9kulZk7d2GVU89gYcfegZvfXMM+bVt0P8tPdOXTleMUKCtsx45pUYMMJVgz8Z38cKzT+CdtR/jYG4DtAaedZla4XpOaTJroOoow3fbjyEkNh4jUhMR5HoZ1T9PuXSLpV7obG7GucM7sOnLL7FlnxcCg8PhojuH2vJ0hE6fhxETJ+PWm6YQwQCkH8yDSeQNd301Ghuq0GaWQOLuC4FaCWeLN1ydQuETFAZv0voRi9wRExkIbzcPSAQSyARChLq5YuK141HeVoeDaXRyXBvUcZMQH6RHzvEKlOfUQ6BToqKmGcbOAhTXVKJO0Wm92d8ilckwePQUjBszCaOCJAjvPIvK2joc+yEdiaGxmDLpKgwaNBhxQSD3AzTmpqG8Ih91Oi30bTXc5Lb8n4+g4GwT/Pv3w6JbAvD5S6/hrDIC4QNGIzXKtevX9RNC5Cwi4cEN7i4RGDYwFanjJmN2vAaxsma0tOqgbGnGoNRkjB07GMl9QhHp74qwEH+IqOixdan9VdDJqMSvGnJf+gsmO5H6iPwYXf/mJfSn1OhJk9uRJuuZoKzPx+nvP8SW9GDMGTsNVw/vy8lR/g2XUAfRVzy4IDAwGAlJkfAKFCA94xAOZDeiuaNryXp+oUFN8Tk0NbdjxK3LMDgmHJ5yfvfs0FaRUOyOftOnY9SMiRiS6I0At0Jsee0ebPh+N87W0gYRP6FPzxXUtMDJLQgeEjPy0vbgpRfXoaxD9Zc8DNDb0BhAk0bRhJKMI9hTEQH/2GRERwbxpMnau1yy4DHqVFCTzGFy9kZEfDLueP5FLJgxAVEeEhj0akhcPeDu6gIvT1cIXSXQuJO/+43F7Y8sx4Q4JxRmHMPmnScBmTO5CfodJcwWHURiMXGQEFKpmFT4IlK/kgAoIrdJMmD44GEwKMpQkHEYldUtiOzbF2EeFtTq9Ogk9xEaOwDxA0Zi4d3LMWn4QAR7/v4S8fQacmdXuLiQRCpxiUnLPa6nVmogk8jg6urGLTFPboOWb2iUCnKvEvhGRyOOKOTwlFm44865mDGuL5yIMDGatWipb0R9B6mATORL9J67Ohe479OfWiSUwknuDCdXV7jLzJAKjOQQM2nVtuHQT9uxfdtu6MnvMWzySPjKRdy48V9eaZHfRejmBinxmd6shlLdQfSBCW3KNrTTiXvELie+DtJTqEN5OR7fM4rSfKT9eAAb9rVjxpKFmD62PyK95VzW4x8Wbk5S9PBpmHv9rbj97n/hmrmDEW3Jwk+H01DdpCClhV+Yla3Iy8jFkZ9PoqEqD+s+Wo+0sgqcKMhD2tFjKO8wk9hhPZgvCEj5d/PDiKlzcevtd+LuOxdj4S3Xw6huQ0VVOZrbFNykeb5B3WCROSFh1GzMXbAQtyyYh6H9QlGfn4nGVi10Bn71XP2Klst7+7ZtgSx5KBL7hiLIk9Sz1r3/JC69h4dUfkKhDO5B4UhKGYqrr5uO5IQIRET1g5d/LBS52Th76hQOHi2ASSRD3/7BMHY2Qu/uB7lIjY6melTUKmERS6EREPVsVJJyZCEiwwSJoQCZecWoUarJPh105k4YzCJ4xw1GGDlHfVYW8stbMGhIX3h6+iAhMRjefi5Q64yQyD0QGDsIoQEBcJfT95LQTGqC0KRBh0YDjcHIbek+595IBJNOZ4DF2RMRfSNQ3lKD49lZyC0oBh29UeqNcA6IhI/cFU6trWjTmKAVeSN6YD8E+QlRVVSMn09LMOXaOegva0Fz3mmcLmkhJYhcqVMHs4GuhdAOva6J3KMetNNGrQK5pvXuSMTTtTWQ+xPCwycAMeEBkFv10l8ObRE4ucIrIAhmrRIleVk4WZqLg8f2IL9JAIuTP3w8+NchTwW6or4YRYXFaO1UobOzHfXVVSiqaOQmm1M/8I3m8nPY/f02bPzxEOqEQUhNjSCGdqJZ0QYtDzuxzBoF2ivS8cO5ZigMIkglYuj1GjR3NJMypyXCgIdGGcwQyNzh7OUFX7SgrrIGrWotFEolGhtboNBa+CfizAa0N+SjsrINSpWIxGw5xNaaRC6WQSqS8rAylcNZ5opwXxqPTSQMiiCwkLpCryP1kpRUlHQQj58SwdheiYq8dPycVYaRMyajX0wgPHjeyXipXKLgEcLbPxHxcclIio9GcEgwfN0kJKML4BczFHEDp8JHW4fcM6eRnq9EQFAUZg6NgqWhCCVEHNC5OhGxMRg0IB4iqROCkqLgF+ANT+9AhEWHIaW/EGcKy1GnIkIjNBBBsYFwEZngGtAH42MjEe0TCIl7IIYlR0HqGowZ0ydgWCKpoBU1ULS1ETXeDo2GCBjrWLJIJIRfYBi5Dx+4uTnBhYik4OQB8PFyhlTuBA//AASEhcPVNxCps6+GWaJHYXEeqhRa+MamwsvLHSH9RiE5Oh4xAg2q65vR3NyMJrUZ7R1taGtpR7NoAJY+9G/cOjQInuomlNd1wsUjAANjguDNXdMNfsHe8CPXFAolcA5MICItBDKzCa0KDfrFRmNA6jB4i8Roy8tHjYIuxsjd/l9K1wiajAi/EQj2cEXj2YP4cvsWbPn5EJTusQiJ648QL/lfP9R2WVigVTai7NRufLvxR5Q0taOhuQI5mQewN7OAE7R0wTS+2NR1nxbU5h7FT3t+JGL7HGQeQC0Jaj/s+AnHThWhTc83e0hFqldCWX0GW77/Hpu/3YKvv/keu9KKUOfRH6mD+sCP9hZzR/IHodQNCSNG4aqbr8XssYMwccxwRPh6IcjXDyGhYXCVCnhlE/UVXT9NVX8Oh3/eiS2bt2Dzlu34bl86QuP6YVBiP4T6ePPOJghcERAYgUlj49CWewC7tm3Gtz8cQWETkDxmIjdaIONlxzapXyryUZCTi2JpH0wfPwyRfl7g//vzLw3Rs3SxgYuga4hFCOewvhgwdDSG9ouBu+zX7C128oZvSCySB8XC2VmOyKETMGrkUAyJDYd3UBz6Ohsh94tE0vBRGD9qINzkrohNGYr+yQMRGhyF0Kj+GDJ6DFxFLogLDUWf/kkYOGokwsKD4Sp2wsBhg5F61dUYMmYMBgS7QCKUIjA2GZGBAQiRWyBycSPnFMOfiDAPdxdIhQKISKsjLGog4gckYwC5j9DgUESPGIHEfrHw9fYggioBfYcORViIH6L7D0eMnw9iI2PQd9gEzL9xPpKJqAsPDEZych8MGZ4IgVhEzu0OV08vBHv7om9cLMZPG4z+0QlIHjICYf36E4Hlj/iYBAwbnYi+fWPgQ36v6KSxGJpErunqBP++SYjvFw9xWxmO79sCj7hpCA9zQuGe/Ti68yT0fcegXwgRZLamUzcKCwu5l+gpSSuRvuwwMTGRe8tubwx/dZ2D/qZxcDdr0Jh9HDt2ZULllIxrb/8Xrpk1HLG+8m7HXj70TdV79+5FVVUV9yJU+mZxN7feeYKABjOBwISO+iKc2vUFXvjwMNQyF7K9lQjNWnR6JGJUagLcZJJenfdCbTp+/Dj3Isfk5GSMIPmNvuC1t6A2NeTuQ15hMcrqlWirLcXp7FM4tC8Hbr4hGDR0ELzI5XrLHvo70gUB161bh87OTowbNw7jx4/nVr29XGz3KJSS/O4WCKfqvdj98z7szamAPiAeVy+6D3fPHo4wT5den3dAl6WgixzSzylTpnBvtu+tvMdBGnR+wZHoP2AwUlIGom//UJQcPgKP8D4YM/dajAx369URVrpwI31bOn2rfUdHB5KSkjBx4kRrObj8IXL6fdrb4ULiTU3+fhw5shs/ppeiShCL5U+8iLkTBiLCx6nXBQ8tT3TBPLqcyPTp00lM7dtrL9rs+k2EcCdCNG5wH1Sn78TOPcdxThWKvtMX4+lHb0E8iXnSXjbKFiPoZ0pKClJTU3+JEZfrJ0qXzzXIPnocB0/WQZB6I26ePACBrmKIr8CwPl2IlL4tfefOndyb4AcNGsTFPblc3iv29AaX/LZ0Ot/FTDI+N89GdL4xtNDR/XR5eAjFpDIWk4qbhCqLGUathpvFL5RIyXbaVWiGTqcnf0uIE7qO0ZPvGgwWyGV0hqyFe6WBiBwrJpehS7MbTHT1GiFk0q5xSGqCUa/jljk3C7om+krJjywWia3BhLRKyL3oTOS6JEDT26X3J5LKuK5Y7lUD5J66rmHpel+QhRRsciyXMQRd82mEFhN3Da2h6xEfgZj2agnJ+cj1zeBEB53M3HV/AsjIDdPl/sViMXdP9BoC+nsQs4x0aM2oQfGJQ/jq7VdRFTYN/X06UJjXhEZzBG5Zvhizknt+HNL2tnRaUB555BHMmzfvCrxl1wRVRztam1ugUGkhIcLUx9cXHm4uxK7eKfm2rGd7A/KxY8fw4osvcm8ODg4O5vb1DuS312vQ2daASiIOBHRZeuoh4j8nd1+EBPhw88S4rNJLUJveeOMNpKenY+HChdxb4N2JSO49LNzaUy2KNnSo6TIBXXdvNArg4++PgAA/kje5Tb0CDWZUFND1POrq6rBixQpuMcreXUKelHWTAZ3tDWhs7oTWaIHExRVuXj7wc3XmymJv+ohChfb777/Pfb7yyiuYNWsWgoKCrHt7j1/DrBG15RUwi+Rcz3LXsHvvQeNaSUkJ9yZ72oC46aabuLdX05hM80jvVDw0nurR0d5EGg1KdOro3CtnBAYGwtVJRspS73mpe4ygeY6ufkzL1fz58+FL4lGvQuK7yaBBfU0t2jp1sJAGtrunD/z9vbjend7Oe7YYQT/pm8XvueeeX8R27wkEM5SKVijalNBLXRFKYh2N371tC/WTXq9HZWUl7r//fpw7dw6LFi3i4p49vS39ku+CVu4yUnNfKHYo1DiqVF1cXOBCCgAndihEjIidXOBMgphcKuWEBzd5mIgTKX0/CvmbfldOvuvmKueEEncdciwVO9wpiIih7+qQW8UOt41kDolMDidXN+6arq6u5Jo2sUMhBZ1UbnKZlLsX2iql15RwAVRABEn3awjIPidy3+R8UgkRJ+QeyI1y56LijlyHnp8mFzkp3OT+hGJyXvJ9LqD8cn8STtzQ34Fej4oeGdkmJReh/9HvSeXOCIsfgGvufACzxqagT/8hmDLvWixafA2Gx3iRYy/OPTTT9V4SwtnNCyG0pysxEXFRYfD1cOGGLXs+/tLSH9HT8ZeWiOskJHj5hSORtAwTEhIQn5CI+Ng4hAd4c/mAHtTzdy8+/RE9HX9pCXDy8ENIRCz69OnD2URTv37xCOZs6uk7l5Z6gm6nleiFx15eIqVPKCECJwRRMXHoEx+P2NAQBLgRsUPL32+Ov7z0R/R0/OWkXxEjICwSwSFBcCMNup6OvZz0v+jpOxefyIlEUrh7ByM8Kg6JCfGIJ/HB06WrAdnzdy4t2e65O1R8937eI4lUh0L6hGB4DBJIzOsTF4kQf3fISFkiB/z2+EtINrr/m9LT372TBHDx8EZwWBiiAr2JcOvdWEfThXCdIcQ/9oh9yK5/KgIx3PxCMGDMFIwdPhADU4ZjzNiRmDCyL0K9nblepT9LTxmvN6Aijgo2mnqv1fF30fXCSyo+aaL//itbHr3tI3rv3e2xpd62yRbYqP+pgKfnpwHtygU10sAgjQubf66kh2y/X3euVFmy8VflO+qv7tfpfbvO99OVwHbP3W250r8fPTe9xpW4jq0sUei5bcnWYKb0tp/oef9KH9FPmy32xiUPaTH+PmxDWqWlpbj99tu5eS+0x4qPrqQFhL78knbtZmdn44EHHsCMGTPg5+fHS3so1KacnBysX78eZ86cwezZs3Hbbbdxw458tIkGLypu6FDW0qVLuaES2gVPh02oWOCrn6hddDX4b775hhsqeeihh7ghOx8fH976ifZ+VFdXc+9Loq+xueqqq7ihEnttcf8ZqF10iOS9995DRkYGnnzySW6+Fe1l53OMyMvL42IEte2GG27A3LlzuaVQ+GoTzWP0dU10qJvOtVqyZAmWL19uV0NaTPDwEJvgOXLkCKKiohAQEMApeD5C75tOdKOFnk6yjI6O5uZQ9P6cpL8Wakt5eTk30ZfOR4qLi/tFOPAVnU6HtLQ07jM2NhYxMTHWPfyFPm1J5x1QP9GhQTovhLa2+QwdUqBCW6VScWWJ5j2+Q/1TUFDAlSv6UAONefZSiV4q3WME9RON5Rf2NvIJKiVonsvKyuKEGxU7y5YtY4KHcXls2bIFa9eu5SZa0uDM50Jia5XSSpR+Unvo/Ca6nc9QYUMn8dFP6h9blzWfixu9d7VazX1Se/guDCg0z1GBQD9t8+34nvcoGo2G85Mt7/EdWo5sMYL2ZvM55tnoKUbwHWoLzXtU4NAe08cee4wJHsblQbtC6fAPbZkyGAwGg2FvDBs2jHss3dbYsweY4OEhVEHTRFumDAaDwWDYG9xT2iTZU48pEzw8hrmOwWAwGPaIPQ4NM8HDYDAYDAbD4eH3NHcGg8FgMBiMPwETPAwGg8FgMBweJngYDAaDwWA4PEzwMBgMBoPBcHiY4GEwGAwGg+HwMMHDYDAYDAbD4WGCh8FgMBgMhsPDBA+DwWAwGAyHhwkeBoPBYDAYDg8TPAwGg8FgMBwe9moJHmJzGXMdg8FgMOwR+i4te3ufFhM8PESr1XJvS9fpdNYtDAaDwWDYD66uruxt6YzLJz8/HydPnkRZWZl1C4PBYDAY9sOIESMwatQoSKVSuxE9TPDwkK1bt2LNmjXYt28fZDIZJBKJdQ8/MZlMXK+V0WiEk5MTZ4+9dYVeLNQWvV7P2UZ9RAs93zGbzejs7OSGUuVyOWcX36H+oX4yGAycTY6Q96ifaA8w/aT2ULv4DosR/MAWI4RCIR566CE89thj8PDw4P62B5jg4SE7duzA6tWrkZaWhoSEBAQFBUEkEln38g+FQoGcnBy0tLQgKSkJoaGhvK9Mm5qaUFJSAqVSiaioKERGRkIsFlv38g8aJlQqFQ4dOsRVPImJiVziO83NzVxPaX19Pfr27Yvg4GCuQuUr1E80z2VnZ3P+omWJlim+w2KE/dM9RlCRvXz5cixbtowJHsblYRM8NFDfcccdmDRpEtfi4aMrqVA7d+4c/vvf/3LDdLRVMGPGDPj6+nItHz5CgxatcNavX8/ZNnfuXNx2221cEKAtID5CfVFXV4d77rkHVVVVWLJkCZYuXWo3gexSoHkvPT0dmzZt4hoPDz/8MMaPHw9vb2/e+on2GlA/Pfvss2hoaMDVV1+Ne++9l9vOZ3Jzc7mYd/z4cTz++OOYMmUK3N3drXv5B40ReXl5+PTTT3H69GnMnz8fN954Ixcj+Fol0xjR2NjI5b3y8nIuRlDRwwQP47KwCZ7a2lo88sgjXIXavaD0pkt/r9v4cq7R/Zy0IGRlZXFB7NixY3jxxRdx/fXXIzAwsNcFz5/pAr/c345eg1akGRkZePPNN7nPhQsX4sEHH+Qm8F2pivSPbOsNX1FfVFRUYOrUqZzgof566qmnzmuR9ma+o1xpm2je279/P95//33s3bsXr7zyCmbNmgV/f//zzt/bdlF6sq03bKJDc7SyoWK0uroaN998M5555pnz8t1f5afesIdCz0MbQ8899xznL9o4uuaaa7hGkQ0+2ESxnZfmPWoTjRFUdN9+++1cY4LGCBt/hU29cQ3beWneo3mO5j06z5TaROOePQke/jbPGL9AMxzNULSipYlWQr2VbOe8MPV07J9NtnPQe/69wEL39fTdy0nd7//3Uk/fu5hEz2Hzx4W2XQmbbOlCO7qnno7/s6n7OegnnXNAK0+bLbb9tmN6M3U/94Wpp+P/bLKdg9rQE3R7b13r91L38/fGdbqfxwatzKivrmR8oKn7tbunno79s+nCc1EbbKKN2nWlfdT93N1TT8deTLKdx2ZPdyFKt/XmtS5M3c/dm9ewnctWnnpbqPUmTPA4CLSwXJlETm4xcY/A07kbeoMRJktPx11a+iN6Ov6yE8wwkEqb2tI9Ufu4HqWevnOR6ffo6djeTV1DGtQWnd4AI42lvznm0pLt/m3Qf9MA1/2Y3k10AmTXhOLuftIbTcSDPR1/8en36OnY3k60oqMtYuorA8l2ll6yyZa60/3vC4/rjUShZeeXGNHLPrJ92rBVrhce27vp1/x3pXxEk43u/6ZceFxvJhojtCQ+6IifyIbf7L+U1B17nlDOK8FDg8TfpR7pdW3pYrmc7/5Zrti5zaTiVLeiqLCAG3MuqWpEs6p3h5r+MixEAeg7UFVZytnSPRUVFaGptRU8tcyKCU1NDSguLkZRaSXqOkykIuq9fNG9NUr/3dtDjudjRlubAqWl5/uqoqEJ7fyejsJBn2ShQ4R5BUWoaiVizvD3xLXegFagdFJxQUFXjHAMHxlJ/mvpyn8O4KPu0MnSuaXVKKhTECupkPvnwBvBQyt0WrCupGj4I+i1LyfA0+/Sc1xJevu3MauaUZz2I/7z0GLcfccSLF68GLcufhgrXtuEwjZzVw8CjzCb9OiozcLrrzzH2dI9/ev/3sXG/eegsh7LJyxElBraa3F662o89eBSboL0v+58AHc8tgZ51R1XJFDTvHalyiI9r5nYk/vjh1jz2K3n+Wn1x5uQX91pPZKfmNurkfntavznvptw//IH8UN2EWlE8G8RUeonvbIOp3d/hRXXzcZdty/ifHTvE//Be1uPo54Kbp7FCIuFxngVsn/cgFcffwC33kry35IluGHxUnx+4AwqlV3H8Q89tOpK7PvqJTy9bAmW3vUcKUuH0EH2mK9QObZHLk7wGPUwdbSgob6Oa6FwAoBsM3cq0KoyQt9rrUlyHqMa7YoWKFUqUlFpoGrMx4fPvY30rCK06S492NIuyo6ODqLe285rsf4eXdfRImP7R9j14zacqb34HN9enY2fv9+BTTuOgn6bLxlM3VaLc2dOYev+SoSkjsGceZMQ49KJ4qM/I6uwgeu65hMCoQhSjzCMGjeZeyrihvlzcd3U4fAz16CjXQm11gI+rmik72xB5dmD+Ozj3TA7R2LK7Gtx03WzMG14DDzkAggF/Mhv5yEVob2lHZ1EWMeMvRrX3XAjN5l9dOoABHnwc90pW8yqzU9DxpksHC2sRPnZs2hqV5HYya+yRKHDFjotqQcsAgQljceCG27GqMQQdBbl49judFSqBGSf9WBeoUVrO+Dun4Cx48dhclIwCjL34+y5UjS1abkjLrX++bswaFVoqSlFZZMGFlKftjW3oLyy2br3n8NFCB4L1O2NKEzfiY1fbMDutBxUNamgaWtAUcZOfHPkHGpautrHNDPQ3gyafhUVNIOYf9lOExVMXRmnq3ucJm7YymRAZ30efjp6Chn5tdDQ+QjaDhTl5qNBoYTG0HWsjV++Z82Ev5yfbDtf0pihqC1G1rED2Lz/DFQ6A3eM7dr0O/R4W1am5zORewF0yNm9HUf2HER+HdXEtn1d37HdC9326310s6uzGfU11SitbiZFidwf2UaPo6n79ym2bbZE99ns+qsxmQ1QaXRo18jRb9h4TJs2DilxgXC1aGAw0N4264E8QSAUQ+4dh7nX3sitD3Hf0sW4bf4khLn7I7l/ImLDg8G/lT3MUHU0I/fUMfxwSomAfkMwfsZUTJo4BtMnDIaPhwxiHs7UE3ATIIVw9fRD0ojxmDhpMq6evQBjhg5BuDdP11+xmGFQNyFtfwbK2wC/fgMQ6QKI7HO6w59CJJHDOywSqdMmYdLUKRgQG48gdw+4SaWQSek8G+uBPKArztIblsA/dhCmzL0B99y9BAvnT4GLWQmloh0ajZ47lm9YzNQXzojoNwqjhvZDTJiXdc8/iz8VCmlGsJDC2tZUiUPfr8OLq1bivx/9iLRzdWhuKMPB7Wvw/IafkE8qdKokW+urUZyXh5yz51BV3wKV1sANJ6jbG1BcVMiN857LL0ZJZQM6NRo011eQ7fnIKypDVUMLNKo25B/djrc/24INP2SiuEpJWq7+GD1/AsKjPKEmIqu6sppUxOS8Fh2aqktRX1cHJcmMWvLdiuI85OeeQ1FFDRo7tJz06MrMRjSXpGP3d19g1YY0KFRqtDQ1oqaqGpUV5eQeClBW1wI1EUJmgxYdLfUoLsxHaXk1Wqq0UDUZoFPTp1QMUDbXobS4EDk5+Sgpq0Gn3gydqhVVVbVobG6HVqNGe2MZEYHtkLgFoH/SAAxKioOAiJjWqnJurYyK8jLuHBV1zdwEMpNRh5bGWhTm5yIvPx9n84tQ1diKTvL7/RXQSXp0gh5dpVWt1UPk6oewiEgk++uQf+wIdn2/B3lNZnj3GYohpCUnlfBgsUMzEY76Lpt0Oj2MpOA7ObvAzc2N7NOgqiIHJ6r90Dd5CPolRMD+LSJlkdhk85NeT/JpRxuKK6rR6OSGmrZKHDy4Exu/2Y5Dp8uh0BBRbrH3Wqer8WCziU58NSpVxBcqGHVVJBbswrYtX2PnrkPIzatEJymDvMBigt5qE7XNSHzVUnIM+462QOqWiDnTRiDGExCL+NNy6B4jVFodxC7ecPdygabhKL7bthk/7M2G1jUYKeOstvFBbFtjBM13NEYYzG7olzoQqUP6INTPBQYRaXTKPeHiIodMwgeDzo8R9AEGodwDwbGpmDBpHAbF+cHHRcDVi2wOzx8gEcvg5RGIgIBAnN6VhVNpuWgXSmCWeNAmGXdMbV4mtr+7EsuumY9J42fgqfe2IrO0FZrWauTs/hBLbl/IraEw7foHcPcLG5F2thgfv7gci2+6BnPufBTPfLoDZRVn8Pl7H6Ny98fYte5tvPbuZ6RSKkbGlu0oyk3D5nXv4sUnnsdPua3Q6kvw9avL8NHqNTiUU4GizB14/o6ZuHHuNNz275fx0a7cLqdyog2QyyXwc3VGqNQZckEbvv/iU7z9yst48bmnce+/rsN9r6xHdmkdOmvzcOzrt3D3LfNw/aL/w7cZeWjgdAfJSKo6HFi3CvcvuhFTpizAHcvfxNEqNcozvsYLK9/Eus2HkX/2BH58+168uuMETpeXIC/7JE6mnSGVkwLbVyzDay+/gicfuR8P33ULHn/vG5QqNERgFWPrZ6/hjpvmYP6CGzB+wZ146ZvDyGn4tefsykGXo++aSEknH54sqkSzwR2RCYMwZkgw9m56H6+8uhbptVqEDR+FWC8hP4KZshVNVaWcTaXl5WjQkoDN9bObUF+Rhx+/Xo2moeMRlxKPMD8eLPpFxLZJo0B5eZdNlZW1UHZqiTk6oOkAjny3Az9t3Y7vNn6I5+5/EDuPF6JF2dUNb7/Q5ejbufV96PoddPVZrUAGZ79YCEUeKMs6iP17NuHVlx/EqjUf4IdTtdbv2TG/TJAv4xp4dJHQlqY6nNi6FuZ+iUidORcjg+KgrQMMAjMsfChLF8SIU0VVqG3uQHtdPTL37cL+vXtJQ+0MSgoLkFtQiZJWIrb/96yBvx9rjKB+KigqQqPGCNJ+JeigqMpA1tYXoI+ejiGpSYgP7Vonx16fQuK4IEaUVjeihXvQhMY2PTpV9InHv6YRbW9cXDEjPpa5uCLluiW4dkIbjKo07MmugYe7K4L8QiG3NGPn/kz8mCfCkjc/wOYvV8Gr4CecpPNfjmRhzVuncNPjL+Gxu2fimikD0D+5DwZF+2L8whV45Y33cP/4IHiU7cYJhRdm3HQdUmYsxoI778F9d1yFYAMpaGdOQKNyhr+XCHJRCQ5n5qGpuABpJW7QCL0gb83DhmfWIO66VSQwfoLbBsih3/cBDuS3Q2e0cN2rOp0Rag1RvFzXpQUdBSfJOc3oP+U6PPbonSja+zlyiEDZl3YU6acK0O/W1/GfF5dhUN9IrvWvUdSjJGM3vsjxw+y7n8Fn792La0dL8OFXPwCxk5Ec1oGyMx/i2Y+/wLtpcZg+uA98JEY0lSnQUq4lLSQjOUcRdM6+GHv9Uiy8bj6kB9bjZG4dju9YA7NQgNlLn8PK++ch3hSPEaGhiAlw5SriK1nIzKpWFB/4Ef+59VYsXbIE99/+Cr5+bx3SD+3H50ekWPbMm1j77suYE2ZG8ddrsXZfIWnh2e+jGDbhUrD3VaxZeRu36ue99z2AvVkVUKhIHmgqwNlTafj2JHDd5LEYGOEPV/FvH7G0N/SqZpSe2o4H7r+Hs+mhVe9iy6Ec0mKTQOgzHPfe8yDWvPMqnrz3FgwS1qCowYx2bZdNdivmjFoUHv4SHz17M+64424sWrQCO45XI2T0NXjg5dV47913sHr1m7h6RCwsHTUoLK8AnbZsz9LUqFOheN9HeHnFv3HnnXfiwceexjsbdmH392fRWVeBsrwM7EtPQ45Kgz3fbMGJvCo0aezXIi7v6EneS/vh1xix/F1s/qEQzuGpWPLku3j9zXew9v0VmJkkRvXBjfjhRDE0enuPEQacPfAZ3nnhQc5Py5Y/hG0HS9DYpkLZib34etNP+LhsEl5/8k5MHhTFxQh7x6BsQUX6Tjx+3724i/rp4Zfx6cYjZA+9dwmcnWSQycRc5U9nwwn5NO54mVyU4KHzWdRaFeAWhbGTR8JdbkbW8WzUKAGxxBnathpU0N6M0mrUN5DU3Amj0AyxkxNMRDK3VRXA2dOXiBUnBPl6ITbMD3JdCwqyM1BYWIjakgo01xA1apYiKDIc8AqBZ0gk4mJC4SUXQkNagSq9BMHRfRAZFYrc7GPIzjwNZWASvCKjYFHXYm92Ljepuq62AYpOFXQi2jEu/aUHqmvOjm2mjhEdLXqIRe6IjIlFfHQk3JuqoK6vR2lZNapbOhHeZwiGDByChBBPeDoBWqUCVbkZOFlagnLSIm0iBUNrEsKdFByhWwgGDiBBWdmM06eL4J44Av1CveFKlJJebYBBQ65LCpnFpIazsxvCoxMRHxcBN2MF6tvaoVSqodQJoDJTQaeHnvwGvv7kuvIr/34VgUQOn/BYjJ83D/OuvRbXL5iASH8zKkmLrawRCAmLR8qA/ghxsqCzqgQljUrSerPf5ptNuLhGDkPK+Hlcr+JVs2aiT5AbXKRGVOWn4XR2FrThkzFxSBxCvJ15MZdCKHGBe2AiZsy8uqundOIo9I+PgpOTNwR6IuxlbpC4uEEmNkFh0MEiIhWOddKy3Yo5gQR+4f0xbOI8XHvtNSRNQ6i7CjUVVSitM8Pfzxc+TqT8E1PUpCyL5HK7n1wuFEngHp6McZNncH6aOWkMBoS5weQeBZFBiZri0ziVew4dRgOaSvPR1tZh7Xm0T7i8I3SCd0gsxs6Zg3nEppvmjkSYRwvyCzNxWuMLb/9gBHtJIDAqoGhvsj6cYc820f8L4RU1CKkTruL8NPuqmRgQIkXjmQPYsmkPDmRpMXD4dPQLdoVWrSaNJdJo5b5tvwilLnALTsCUWVdxfrpqyggkx/vAbOhEW0cz6lra0aEm9ZauEw2N7dCT+tB+vdS7XKTgIS1jbSepmIGogdMRGxwMTXkODp6ug85gIhW5ERZSCRp0Oiga61HTpEfs8LFIShkIfxcxZHItqguIsFHK4BMYhrhAEeoL0nHg0CHk5BWjtpacu90Cs8gCiUgKk0ZFhIIaRq53pitY60wC+Eb0Q0x8AjTFh7Dth0zSwohAWHwoOcYIpVSOTmUjGuoaIPKLQszwcYj0c4JI2EOwtxih0clgETpDIhWRVpkRnsT1EpIBTBYhTEQRW4jAM6g10JK/DOTXonOZDKQiadMr0UxsbOoQwcknHtOG9YHc0Eb2icm9e8KbBGVvoRIqnQUGEsi0RhM6DV3diDo6BcFCn54hDiBaRu5mgc5igEXsDlUn+Y2qa4iIlCBpKvndAj0hJrZf6cpKIHVFcL/BWPDvf+MBkh566AaMHtsfbu5y+Lt3Im3fLvy4ax9yG5SQBoaiD70v0UVln7+FgAFzMfPmh/BvYtO9S+/CkBhfOKMD586cRW5RE/qPvRr9wr3hJuPBfCSCWO4B/+jhuHvpvZxNS26ch8kjUxCSOAhDw7Q4cWwPPv10K/akV8GSMBoJEe5wJ2LBriFlPazfGMy65d/EpuUk792OlEgnNBVkYNe2zfh8/QZ89tm3qOiUIyS2P/qSxg43bdlee6wIQtKA8O83CdcvvIvz0123L8Ss8akYdd3NGDVyKPrHhCHI25M05MSIiItBoI8rnO2990DshqCEIVyMWEZjxL1zMLyvC2oLj+O7rZvwxRcbsHHHAZRqJAgZmIIBkT4kFtpzuaK/twghSZNw9U13c366b+mdGB0nRvmJn7F7XxryKhRwN9fjJ5IPt+09jnNVzaRpS7Oe/eY9kZM7fONTcTuJEcuJTfcsno+Jg4PRXnkOP3/7DXYeOIvy6io0VmZj2zc7Udum6cUnrO2bi4qE9MkJsYS+xl4M14C+SO0ThSRvHY6dKobIpIeHXxj8g2IRFZWAAUTojBk7FpOnTCcBKgAyQQeUMj+0lhbB5B2JsMR+CPc0ob70FNqdY5A4eBQGJCTAz4mID1KRurr5IlJigKSjFQ0N7URomYgokUMsFsHdLxDhIQEI1eTj+z2lpEKWIybcB17efhjSLwlxQ0Zj6OhxmDBhMkYNHYw+3nTyXJdDhURhiKUyiGV0NUghJE5SGMj11ERU0dU7xTInSL29EBgZDH8fF9SU5qK0kFSOHUY0QQ4ndy9S6FMQENoHgwcPxdixYzBqzAgMHBgPWXseDh3KhtAzBKNSE1G9cyOOFinQqiPnJ+2CdvIbmYnQURtlUBqIyCHCij4qLZQ6QULUj0GrgVnbQbZJIQhIxd2TUhDj70FKF3frVxxqP10lUyqVkvsRcsIyZcJETBwmx+HdG7H2k6+Q2QpEj5uCOSmRcJLY/5t96dLn1B76ZmX6SYWjQaUgrRwx9NIETB81BAEuUiIq+VPgqZ9+sYnY5+EbgJSps/DgrWNgJI2A7Rt3IqfOG7PuehoTk2Pg49r7TzXR37E3RThdPfeXvEc+nV1DEEzKrUmRjg8+Wod1X2cguM9oXDtzGsbGB3HfudKNgMuHLt0v4fwkcfaAa2hfLLjjTtxxz1Lcd+cSLLxmNolXCZhxy0Ik94kkjSR7t6cr71F7aKKx1Ns/GuEk7krObMT6j9fgs4NlsMSOwrxbb8LIWD/IeDDRj+YjGie6YoQYArMS9Z1KiFx1kEurseu7Dfjk4w+xfd9xFNW2wkh76e1Y8FDOixHkEwYNmgvP4Ou31+FgejVphOsgUORi87ovUN7YCQ2p/+zdpt7gonKjVO4G/5A+iI0IgIuTC6L7D8a02XMxIzUW4wO18HYPwZypQzGPVJCfvPECXvvPK3j9jW9wKLsRRCkgyNTODWudPvodPvt6B7ZldiBh6BzEmxpw9MetyFF2wmN4KvzdpPAZkILRCU6oL8rE5z8ehFbuicikFNIS8oAzVbCBsZgweAjGj5qCiSRoRPtEILHvWDz679uhPLoLG957E08+9w7eW7cbHUSS0+5Vi0UIZ3d/+EUmIDAxkrTCnBFEKoSI+GD4yqRwI63n5P4p8JJ6EDEzDJPH9Yfi8Go8sz4DMf0SMXZMErzDI5E4YjoeH9CC0zs/w6pVq/DG6k+w5RBdZfQM6jxiED9uARbfPAc3zfHE2dO5aNM7ITohDEl9vSAkAdA9rh98vX3gQt9F4uIFz5jBpNJ1hqenD5Q6EzlPDrL278Lalz5A9rly0Plmf1Vm7F6RSd2C0X/UNVjx+of4ZstWbN++HV99/Bb+7445CHIXgQcdPL9gs4smuXc05t/5IF5762XcMj4aLjIS5Kw28wWbLV2QwOYcgfG3PI63PvyC+OlTfLrmITwwrz8i3EmFewX8RAMqFSm9SXebhJ5hGDpjIVb8l1Q0278jaRPeWvUw5k4YCB8X/mQ8m02/+qoLoYsPEibOxaMffYaFQ+IQ6koqJZ7wqz0iuPlEY9TM2/D6h5uxZet32Lnxc6x5YhluGNEfPhJiJ4+KFWeXkNy0SyxmL3oK/3l3PT7//HN88cUX2LZtGz55ejGuGRwJZ3Iczf/2Tvd8J/UMRMSE67Hqi43YuH0zNm/+Ahs3fooN619Faow33LglBHjkrEvkIt6WbuEeOe9obUKH0Bv+Xi5wFpnQ2daKqto6yDyCEOTvDZFJg9bmZtQrlNwPKBa7Q2qsRmZaOl7+oAir3l4CL905bPz2BKo6ffHKy/dD2NYIo9lIoyikzi5w9/OHr7MArTV1aO40QOTsimAfZ9SXVsM9OBweXm6AtgMttdVQaGQICA2Ch4cLRGYDtMp21NU3QW0wQmciAsfVA7GxYZAQXwpIK57OwWltU0JhcUN8iDMaq+tgFMjg4e0JF+hQSa7hRq7hSoKqrqMZtfWt0Ek84SkzkVaaG2RuXvCVAy3VZWhW6qAlylgsd4GrdwA8hO1o7DDD1cMT3k4CtNdXoF0SAn9XQNOpIfcjQlCoL5pK8mB09oenlwfkFg0a66sg93XDBw8/DIVrLFKuuRHx4jJ8/ORKxN24AlNmTcfAMGdO9NDf9MK3pc+bNw/Ozs5WP/Uu9Jp0bSD63h9Kl0+7Xhh3udiyXmZm5m/elh4cHMztuzJ0rRNlNlsgob0+1q29CbXpjTfe4N6EbHtburu7u3XvlYD8lqQM6Y10faeu3sretI0+Nk6fNBo7diy3pMKKFSvw7LPPXtkgaelaH8tgfdRHLJFw+a43r0jfkn7h29KDgrp6kK4UXeWY/qZd5Yr2aFF/9cZvSc9Hn3K7++67uafebrrpJjz//PNcGabnvyL+spi7HoM2dF1DZI0PvXGl7jGC5rmDBw/itddew3XXXce91f7KYIFeb+B+s+5Q23or9lFsMYJ+0jeL33vvvV3LZRCuhJ/odAz62P2FSGlv3WVej/qJLupbWVmJ+++/H+fOncOiRYv4/LZ0ASRyV/gERyEq0KOrVSyWwc03CIlJgxAdHtg1+9vVE0GRsRg4cCCSk5PRv380t5ZLaEgwBsUA+aezcOhMA0RewRg6PBneXt6ITeyDvv37o2/fvoiLikSAqzNEQif4hUWjT594xEeEwNXVC7EDkuDv6wGZSAiZC7lObD/0TYqFr7crJCKiuiVSOHv7IYacpz85dvAgsj8+DES8kgzUZYPczRvBYRHcvA2JSI6QiChEhAfDk1xTQq4RY72Gs5MbvAKi0HdACgYlRiM6Jh5hJBD6u8ohFMvhF5lI7B7I2ZmUGI+oAA94+4WjTwyx1dcTzi4eCIoZgD7hPvD29kFIeCiio4LgRIJbeJ8B3O/l7eYEZ3dvRMYlIdDbF7FJfeAsN6Lk1DEcy8iBJXY0wontvi4ia5C8AsHqf8AFMFLA5XI5l2gXaW8VeIrNJts56eeVLxw0cHUNn1ypX5TaYKvEevP3+n2IJaR1KpXKOD9dCduoHU5OTn+RPQSBiFSe0l/ynphct7dtsg15Uqhdf0UZ67rGr+WqN69Lz2PLd7Y8aNveW9f4DQJyPVGXn2h86E0/2e67uy29KTp6RsDlCVu+s6Xejn02m2z5wGbrlfITncJxoU009cZTWvSeqR32/OJQykX08Pw+tlN0N/T8bSa0Vpfg5J7tOFGrQaPJFfH9UzB22CAkBrv/cizlwh+L7rNt6/5vSk/XpfzR+WxceC4bf/YaNn7vPH9ET9egf1cXHkN61hmcKaiDESIEDrwKV4+MR2SAq/XILmw9PPTFdv/6178wceJErjDa7pVPULtzc3Px7rvv4sSJE1i+fDmmTp0KX1/f37Sw+AINYnRNjw0bNuDMmTOYO3cubrjhBq4Xjo8+otD7bmhowNKlS1FTU8O1SO+6666Lzvv2BPXTqVOn8O233+Lw4cPcpNXRo0eTBoo3b/1Ee8Tq6+uxcuVKzl8zZ87kenv4WpZs0Bixdu1arjfk0UcfxaRJk+Hmdn5c5Bt0jRwaI6htCxYswJw5c7gGBZ9jRHNzM5577jmUl5dzy2bQeG5PPTy9Inj+LPRStsvRQMnnYHklsP02ts/fyyR0Ls2aNWuQkZGBpKQkREZGcr8lH4MabRW0tLRwttC3+NIes5iYGLi6unLDTnyD+oG2QKktOTk5XACIi4tDv379OH/yueKhq7b+8MMPUKvVXO8tTXyG+okOz1FxSj8HDx6MiIgIrtVLhQMfobFDo9Hi6NEjUKlUXFlKSUnhypItrvARWo5OnjzJlathw4YhPDwCUqm9L07wx7S2tnJih9oWHx/PjXDwPUbQ1aoPHTrEDa3SIbp/vODpDhM859OTK3r6jbZs2cK1dui8AyoYerOb9e+A2k0LCC3otu5qvucNalPXPCEzZw+1i+9Qm+g4Pf2k9jiCTdQ/VNx0z3t8x1ae6Kej5D3qH1t5osMmjuInR4wRNO9RHnroIW5u5j9W8DB6BzohLDs7m5sgxmAwGAyGvTF06FCMHDmS6zG1lwYsEzw8RKlUcol2HzIYDAaDYW/Qnh1PT0+76o1jgofBYDAYDIbDYx8DawwGg8FgMBhXECZ4GAwGg8FgODxM8DAYDAaDwXB4mOBhMBgMBoPh8DDBw2AwGAwGw+FhgofBYDAYDIbDwwQPg8FgMBgMh4cJHgaDwWAwGA4PEzwMBoPBYDAcHiZ4GAwGg8FgODxM8DAYDAaDwXB4mOBhMBgMBoPh8DDBw2AwGAwGw+FhgofBYDAYDIbDwwQPg8FgMBgMBwf4fzRPuAIi6i83AAAAAElFTkSuQmCC)"
   ]
  },
  {
   "cell_type": "code",
   "execution_count": 2,
   "metadata": {},
   "outputs": [],
   "source": [
    "abc=\"Deep learning is subset of machine learning\""
   ]
  },
  {
   "cell_type": "code",
   "execution_count": 34,
   "metadata": {},
   "outputs": [
    {
     "data": {
      "text/plain": [
       "' '"
      ]
     },
     "execution_count": 34,
     "metadata": {},
     "output_type": "execute_result"
    }
   ],
   "source": [
    "abc[4]"
   ]
  },
  {
   "cell_type": "code",
   "execution_count": 4,
   "metadata": {},
   "outputs": [
    {
     "data": {
      "text/plain": [
       "'a'"
      ]
     },
     "execution_count": 4,
     "metadata": {},
     "output_type": "execute_result"
    }
   ],
   "source": [
    "abc[7]"
   ]
  },
  {
   "cell_type": "code",
   "execution_count": 5,
   "metadata": {},
   "outputs": [
    {
     "data": {
      "text/plain": [
       "'n'"
      ]
     },
     "execution_count": 5,
     "metadata": {},
     "output_type": "execute_result"
    }
   ],
   "source": [
    "abc[-2]"
   ]
  },
  {
   "cell_type": "code",
   "execution_count": 8,
   "metadata": {},
   "outputs": [
    {
     "data": {
      "text/plain": [
       "'r'"
      ]
     },
     "execution_count": 8,
     "metadata": {},
     "output_type": "execute_result"
    }
   ],
   "source": [
    "abc[-5]"
   ]
  },
  {
   "cell_type": "code",
   "execution_count": null,
   "metadata": {},
   "outputs": [],
   "source": [
    "abc[12]\n",
    "abc[0]\n",
    "\n",
    "\n",
    "\n",
    "\n",
    "\n",
    "\n",
    "\n"
   ]
  },
  {
   "cell_type": "markdown",
   "metadata": {},
   "source": [
    "### **String Slicing**\n",
    "1) We can use a : to perform slicing which grabs everything up to a designated point.\n",
    "2) The starting index is specified on the left of the : and the ending index is specified on the right of the :.\n",
    "3) Remember the element located at the right index is not included i.e right side value always present (n-1)\n",
    "4) if we use another second : it indicates step value means skipping of some part (n-1)"
   ]
  },
  {
   "cell_type": "markdown",
   "metadata": {},
   "source": [
    "![image.png](data:image/png;base64,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)"
   ]
  },
  {
   "attachments": {
    "image.png": {
     "image/png": "[encoded data removed]"
    }
   },
   "cell_type": "markdown",
   "metadata": {},
   "source": [
    "![image.png](attachment:image.png)"
   ]
  },
  {
   "cell_type": "code",
   "execution_count": 10,
   "metadata": {},
   "outputs": [
    {
     "name": "stdout",
     "output_type": "stream",
     "text": [
      "data\n",
      "dt\n"
     ]
    }
   ],
   "source": [
    "a=\"datascience\"\n",
    "print(a[0:4:1])\n",
    "print(a[0:4:2])"
   ]
  },
  {
   "cell_type": "code",
   "execution_count": 11,
   "metadata": {},
   "outputs": [
    {
     "name": "stdout",
     "output_type": "stream",
     "text": [
      "dtsine\n"
     ]
    }
   ],
   "source": [
    "print(a[0::2])"
   ]
  },
  {
   "cell_type": "code",
   "execution_count": 13,
   "metadata": {},
   "outputs": [
    {
     "name": "stdout",
     "output_type": "stream",
     "text": [
      "aacec\n"
     ]
    }
   ],
   "source": [
    "print(a[1::2])"
   ]
  },
  {
   "cell_type": "code",
   "execution_count": 14,
   "metadata": {},
   "outputs": [
    {
     "name": "stdout",
     "output_type": "stream",
     "text": [
      "\n"
     ]
    }
   ],
   "source": [
    "a=\"datascience\"\n",
    "\n",
    "print(a[0:4:-1])"
   ]
  },
  {
   "cell_type": "code",
   "execution_count": 15,
   "metadata": {},
   "outputs": [
    {
     "name": "stdout",
     "output_type": "stream",
     "text": [
      "ecn\n"
     ]
    }
   ],
   "source": [
    "a=\"datascience\"\n",
    "\n",
    "print(a[-1:-4:-1])"
   ]
  },
  {
   "cell_type": "code",
   "execution_count": 16,
   "metadata": {},
   "outputs": [
    {
     "name": "stdout",
     "output_type": "stream",
     "text": [
      "enistd\n"
     ]
    }
   ],
   "source": [
    "a=\"datascience\"\n",
    "\n",
    "print(a[-1::-2])"
   ]
  },
  {
   "cell_type": "code",
   "execution_count": 17,
   "metadata": {},
   "outputs": [
    {
     "name": "stdout",
     "output_type": "stream",
     "text": [
      "ecneicsatad\n"
     ]
    }
   ],
   "source": [
    "a=\"datascience\"\n",
    "\n",
    "print(a[::-1])"
   ]
  },
  {
   "cell_type": "code",
   "execution_count": 18,
   "metadata": {},
   "outputs": [
    {
     "name": "stdout",
     "output_type": "stream",
     "text": [
      "ecne\n"
     ]
    }
   ],
   "source": [
    "a=\"datascience\"\n",
    "\n",
    "print(a[-1:6:-1])"
   ]
  },
  {
   "cell_type": "code",
   "execution_count": 19,
   "metadata": {},
   "outputs": [
    {
     "name": "stdout",
     "output_type": "stream",
     "text": [
      "\n"
     ]
    }
   ],
   "source": [
    "a=\"datascience\"\n",
    "\n",
    "print(a[-5:-1:-1])"
   ]
  },
  {
   "cell_type": "code",
   "execution_count": 20,
   "metadata": {},
   "outputs": [
    {
     "name": "stdout",
     "output_type": "stream",
     "text": [
      "\n"
     ]
    }
   ],
   "source": [
    "a=\"datascience\"\n",
    "print(a[8:-1:-1])"
   ]
  },
  {
   "cell_type": "markdown",
   "metadata": {},
   "source": [
    "### len()\n"
   ]
  },
  {
   "cell_type": "code",
   "execution_count": 55,
   "metadata": {},
   "outputs": [
    {
     "data": {
      "text/plain": [
       "36"
      ]
     },
     "execution_count": 55,
     "metadata": {},
     "output_type": "execute_result"
    }
   ],
   "source": [
    "## it counts how many letters in the string along with the space\n",
    "hema='i am waiting for my compeny apricels'\n",
    "len(hema)"
   ]
  },
  {
   "cell_type": "markdown",
   "metadata": {},
   "source": [
    "## methods in strings"
   ]
  },
  {
   "cell_type": "markdown",
   "metadata": {},
   "source": [
    "#### capitalize ( it converts the  first character to upper case)"
   ]
  },
  {
   "cell_type": "code",
   "execution_count": 104,
   "metadata": {},
   "outputs": [
    {
     "data": {
      "text/plain": [
       "'Hi ,ai world '"
      ]
     },
     "execution_count": 104,
     "metadata": {},
     "output_type": "execute_result"
    }
   ],
   "source": [
    "abb=\"hi ,ai world \"\n",
    "abb.capitalize()\n"
   ]
  },
  {
   "cell_type": "markdown",
   "metadata": {},
   "source": [
    "#### Title (it converts the first chatacte of each word to upper case)"
   ]
  },
  {
   "cell_type": "code",
   "execution_count": 105,
   "metadata": {},
   "outputs": [
    {
     "data": {
      "text/plain": [
       "'Hi ,Ai World '"
      ]
     },
     "execution_count": 105,
     "metadata": {},
     "output_type": "execute_result"
    }
   ],
   "source": [
    "abb.title()\n"
   ]
  },
  {
   "cell_type": "markdown",
   "metadata": {},
   "source": [
    "### lower & islower & casefold "
   ]
  },
  {
   "cell_type": "code",
   "execution_count": 38,
   "metadata": {},
   "outputs": [
    {
     "data": {
      "text/plain": [
       "'data science in rosh corporate'"
      ]
     },
     "execution_count": 38,
     "metadata": {},
     "output_type": "execute_result"
    }
   ],
   "source": [
    "## lower the all the characters\n",
    "acc=\"DAta science in ROSH corporate\"\n",
    "acc.lower()"
   ]
  },
  {
   "cell_type": "code",
   "execution_count": 42,
   "metadata": {},
   "outputs": [
    {
     "data": {
      "text/plain": [
       "'data'"
      ]
     },
     "execution_count": 42,
     "metadata": {},
     "output_type": "execute_result"
    }
   ],
   "source": [
    "## lower the specified part of slicing\n",
    "acc.lower()[:4]"
   ]
  },
  {
   "cell_type": "code",
   "execution_count": 43,
   "metadata": {},
   "outputs": [
    {
     "data": {
      "text/plain": [
       "False"
      ]
     },
     "execution_count": 43,
     "metadata": {},
     "output_type": "execute_result"
    }
   ],
   "source": [
    "### check for the all lower case characters in the sentence or word\n",
    "acc.islower() "
   ]
  },
  {
   "cell_type": "code",
   "execution_count": 44,
   "metadata": {},
   "outputs": [
    {
     "data": {
      "text/plain": [
       "True"
      ]
     },
     "execution_count": 44,
     "metadata": {},
     "output_type": "execute_result"
    }
   ],
   "source": [
    "hema='i am waiting for my compeny apricels'\n",
    "hema.islower()"
   ]
  },
  {
   "cell_type": "markdown",
   "metadata": {},
   "source": [
    "#### swapcase ( it  swaps the upper case to lower and vice versa)"
   ]
  },
  {
   "cell_type": "code",
   "execution_count": 49,
   "metadata": {},
   "outputs": [
    {
     "name": "stdout",
     "output_type": "stream",
     "text": [
      "DAta science in ROSH corporate\n"
     ]
    },
    {
     "data": {
      "text/plain": [
       "'daTA SCIENCE IN rosh CORPORATE'"
      ]
     },
     "execution_count": 49,
     "metadata": {},
     "output_type": "execute_result"
    }
   ],
   "source": [
    "print(acc) ## actual stirng \n",
    "acc.swapcase()  ## after applying the string method"
   ]
  },
  {
   "cell_type": "markdown",
   "metadata": {},
   "source": [
    "### count (counts the occurance of a specified link)"
   ]
  },
  {
   "cell_type": "code",
   "execution_count": 51,
   "metadata": {},
   "outputs": [
    {
     "data": {
      "text/plain": [
       "2"
      ]
     },
     "execution_count": 51,
     "metadata": {},
     "output_type": "execute_result"
    }
   ],
   "source": [
    "abc=\"Deep Neural Networks\"\n",
    "abc.count(\"Ne\")"
   ]
  },
  {
   "cell_type": "code",
   "execution_count": 52,
   "metadata": {},
   "outputs": [
    {
     "data": {
      "text/plain": [
       "2"
      ]
     },
     "execution_count": 52,
     "metadata": {},
     "output_type": "execute_result"
    }
   ],
   "source": [
    "abc.count(\" \")"
   ]
  },
  {
   "cell_type": "code",
   "execution_count": 53,
   "metadata": {},
   "outputs": [
    {
     "data": {
      "text/plain": [
       "0"
      ]
     },
     "execution_count": 53,
     "metadata": {},
     "output_type": "execute_result"
    }
   ],
   "source": [
    "abc.count(\"deep\")"
   ]
  },
  {
   "cell_type": "markdown",
   "metadata": {},
   "source": [
    "#### index()  \tSearches the string for a specified value and returns the position of where it was found"
   ]
  },
  {
   "cell_type": "code",
   "execution_count": 57,
   "metadata": {},
   "outputs": [
    {
     "name": "stdout",
     "output_type": "stream",
     "text": [
      "26\n"
     ]
    }
   ],
   "source": [
    "txt=\"Hello ,welcome to my world\"\n",
    "print(len(txt))"
   ]
  },
  {
   "cell_type": "code",
   "execution_count": 58,
   "metadata": {},
   "outputs": [
    {
     "name": "stdout",
     "output_type": "stream",
     "text": [
      "21\n"
     ]
    }
   ],
   "source": [
    "print(txt.index(\"world\"))"
   ]
  },
  {
   "cell_type": "code",
   "execution_count": 61,
   "metadata": {},
   "outputs": [
    {
     "ename": "ValueError",
     "evalue": "substring not found",
     "output_type": "error",
     "traceback": [
      "\u001b[1;31m---------------------------------------------------------------------------\u001b[0m",
      "\u001b[1;31mValueError\u001b[0m                                Traceback (most recent call last)",
      "Cell \u001b[1;32mIn[61], line 1\u001b[0m\n\u001b[1;32m----> 1\u001b[0m \u001b[38;5;28mprint\u001b[39m(\u001b[43mtxt\u001b[49m\u001b[38;5;241;43m.\u001b[39;49m\u001b[43mindex\u001b[49m\u001b[43m(\u001b[49m\u001b[38;5;124;43m\"\u001b[39;49m\u001b[38;5;124;43mhi\u001b[39;49m\u001b[38;5;124;43m\"\u001b[39;49m\u001b[43m)\u001b[49m)\n",
      "\u001b[1;31mValueError\u001b[0m: substring not found"
     ]
    }
   ],
   "source": [
    "print(txt.index(\"hi\"))"
   ]
  },
  {
   "cell_type": "markdown",
   "metadata": {},
   "source": [
    "### find(Searches the string for a specified value and returns the position of where it was found)"
   ]
  },
  {
   "cell_type": "markdown",
   "metadata": {},
   "source": [
    "##### note::The index() method is almost the same as the find() method, the only difference is that the find() method returns -1 if the value is not found"
   ]
  },
  {
   "cell_type": "code",
   "execution_count": 59,
   "metadata": {},
   "outputs": [
    {
     "name": "stdout",
     "output_type": "stream",
     "text": [
      "21\n"
     ]
    }
   ],
   "source": [
    "print(txt.find(\"world\"))"
   ]
  },
  {
   "cell_type": "code",
   "execution_count": 60,
   "metadata": {},
   "outputs": [
    {
     "name": "stdout",
     "output_type": "stream",
     "text": [
      "-1\n"
     ]
    }
   ],
   "source": [
    "print(txt.find(\"hi\"))"
   ]
  },
  {
   "cell_type": "markdown",
   "metadata": {},
   "source": [
    "### casefold()"
   ]
  },
  {
   "cell_type": "markdown",
   "metadata": {},
   "source": [
    "#### note ::\n",
    "This method is similar to the lower() method, but the casefold() method is stronger, more aggressive, meaning that it will convert more differnt languages into characters into lower case, and will find more matches when comparing two strings and both are converted using the casefold() method."
   ]
  },
  {
   "cell_type": "code",
   "execution_count": 45,
   "metadata": {},
   "outputs": [
    {
     "data": {
      "text/plain": [
       "'my laptop charging  was full'"
      ]
     },
     "execution_count": 45,
     "metadata": {},
     "output_type": "execute_result"
    }
   ],
   "source": [
    "### lower the all the characters\n",
    "charge=\"My LAPTOP CHARGING  was full\"\n",
    "charge.casefold()"
   ]
  },
  {
   "cell_type": "markdown",
   "metadata": {},
   "source": [
    "## differnce between lower() and casefold()"
   ]
  },
  {
   "cell_type": "code",
   "execution_count": 110,
   "metadata": {},
   "outputs": [
    {
     "name": "stdout",
     "output_type": "stream",
     "text": [
      "hello i̇ world! 123\n"
     ]
    }
   ],
   "source": [
    "#s = \"HELLO WORLD! 123\"\n",
    "s=\"HELLO \\u0130 WORLD! 123\"\n",
    "lower_case = s.lower()\n",
    "print(lower_case)  # Output: hello world! 123\n"
   ]
  },
  {
   "cell_type": "code",
   "execution_count": 107,
   "metadata": {},
   "outputs": [
    {
     "name": "stdout",
     "output_type": "stream",
     "text": [
      "hello i̇ world! 123\n"
     ]
    }
   ],
   "source": [
    "s = \"HELLO \\u0130 WORLD! 123\"  # \\u0130 is the Unicode character for 'İ' with dot\n",
    "case_fold = s.casefold()\n",
    "print(case_fold)  # Output: hello i world! 123\n"
   ]
  },
  {
   "cell_type": "code",
   "execution_count": null,
   "metadata": {},
   "outputs": [],
   "source": []
  },
  {
   "cell_type": "markdown",
   "metadata": {},
   "source": [
    "### upper  & isupper "
   ]
  },
  {
   "cell_type": "code",
   "execution_count": 41,
   "metadata": {},
   "outputs": [
    {
     "name": "stdout",
     "output_type": "stream",
     "text": [
      "DAta science in ROSH corporate\n"
     ]
    }
   ],
   "source": [
    "print(acc)"
   ]
  },
  {
   "cell_type": "code",
   "execution_count": 62,
   "metadata": {},
   "outputs": [
    {
     "name": "stdout",
     "output_type": "stream",
     "text": [
      "DATA SCIENCE IN ROSH CORPORATE\n"
     ]
    }
   ],
   "source": [
    "print(acc.upper())"
   ]
  },
  {
   "cell_type": "code",
   "execution_count": 64,
   "metadata": {},
   "outputs": [
    {
     "name": "stdout",
     "output_type": "stream",
     "text": [
      "ATA SCIEN\n"
     ]
    }
   ],
   "source": [
    "print(acc.upper()[1:10])"
   ]
  },
  {
   "cell_type": "code",
   "execution_count": 65,
   "metadata": {},
   "outputs": [
    {
     "name": "stdout",
     "output_type": "stream",
     "text": [
      "False\n"
     ]
    }
   ],
   "source": [
    "print(acc.isupper())"
   ]
  },
  {
   "cell_type": "markdown",
   "metadata": {},
   "source": [
    "### join() Converts the elements of an iterable into a string"
   ]
  },
  {
   "cell_type": "code",
   "execution_count": 114,
   "metadata": {},
   "outputs": [
    {
     "data": {
      "text/plain": [
       "'python is a fun programming language'"
      ]
     },
     "execution_count": 114,
     "metadata": {},
     "output_type": "execute_result"
    }
   ],
   "source": [
    "#example -1\n",
    "txt=[\"python\" , \"is\", \"a\" , \"fun\" , \"programming\" ,\"language\"]\n",
    "\" \".join(txt)\n"
   ]
  },
  {
   "cell_type": "code",
   "execution_count": null,
   "metadata": {},
   "outputs": [],
   "source": [
    "## example -2\n",
    "s1=\"abc\"\n",
    "s2=\" 123\"\n",
    "s1.join(s2)\n"
   ]
  },
  {
   "cell_type": "code",
   "execution_count": 131,
   "metadata": {},
   "outputs": [
    {
     "data": {
      "text/plain": [
       "'a#b#c'"
      ]
     },
     "execution_count": 131,
     "metadata": {},
     "output_type": "execute_result"
    }
   ],
   "source": [
    "#example-3\n",
    "s2=\"abc\"\n",
    "\"#\".join(s2)"
   ]
  },
  {
   "cell_type": "code",
   "execution_count": 133,
   "metadata": {},
   "outputs": [
    {
     "ename": "TypeError",
     "evalue": "sequence item 3: expected str instance, int found",
     "output_type": "error",
     "traceback": [
      "\u001b[1;31m---------------------------------------------------------------------------\u001b[0m",
      "\u001b[1;31mTypeError\u001b[0m                                 Traceback (most recent call last)",
      "Cell \u001b[1;32mIn[133], line 3\u001b[0m\n\u001b[0;32m      1\u001b[0m \u001b[38;5;66;03m##example-4\u001b[39;00m\n\u001b[0;32m      2\u001b[0m s2\u001b[38;5;241m=\u001b[39m[\u001b[38;5;124m\"\u001b[39m\u001b[38;5;124m1\u001b[39m\u001b[38;5;124m\"\u001b[39m,\u001b[38;5;124m\"\u001b[39m\u001b[38;5;124m2\u001b[39m\u001b[38;5;124m\"\u001b[39m,\u001b[38;5;124m\"\u001b[39m\u001b[38;5;124m3\u001b[39m\u001b[38;5;124m\"\u001b[39m,\u001b[38;5;241m4\u001b[39m]\n\u001b[1;32m----> 3\u001b[0m \u001b[38;5;124;43m\"\u001b[39;49m\u001b[38;5;124;43m\"\u001b[39;49m\u001b[38;5;241;43m.\u001b[39;49m\u001b[43mjoin\u001b[49m\u001b[43m(\u001b[49m\u001b[43ms2\u001b[49m\u001b[43m)\u001b[49m\n",
      "\u001b[1;31mTypeError\u001b[0m: sequence item 3: expected str instance, int found"
     ]
    }
   ],
   "source": [
    "##example-4\n",
    "s2=[\"1\",\"2\",\"3\",4]\n",
    "\"\".join(s2)"
   ]
  },
  {
   "cell_type": "code",
   "execution_count": 134,
   "metadata": {},
   "outputs": [
    {
     "data": {
      "text/plain": [
       "'123'"
      ]
     },
     "execution_count": 134,
     "metadata": {},
     "output_type": "execute_result"
    }
   ],
   "source": [
    "##example-4\n",
    "s2=[\"1\",\"2\",\"3\",4]\n",
    "\"\".join(s2[:3])"
   ]
  },
  {
   "cell_type": "code",
   "execution_count": 76,
   "metadata": {},
   "outputs": [
    {
     "name": "stdout",
     "output_type": "stream",
     "text": [
      "1234\n",
      "welcome\n"
     ]
    }
   ],
   "source": [
    "##example-4\n",
    "s2=[\"1\",\"2\",\"3\",\"4\"]\n",
    "s3=(\"we\",\"l\",\"come\")\n",
    "print(\"\".join(s2))\n",
    "print(\"\".join(s3))"
   ]
  },
  {
   "cell_type": "markdown",
   "metadata": {},
   "source": [
    "#### replace()"
   ]
  },
  {
   "cell_type": "code",
   "execution_count": null,
   "metadata": {},
   "outputs": [],
   "source": [
    "\" \""
   ]
  },
  {
   "cell_type": "code",
   "execution_count": 117,
   "metadata": {},
   "outputs": [
    {
     "name": "stdout",
     "output_type": "stream",
     "text": [
      "Deep---Neural---Networks\n",
      "Deep Leural Letworks\n",
      "keep Neural Networks\n"
     ]
    }
   ],
   "source": [
    "aa='Deep Neural Networks'\n",
    "print(aa.replace(\" \",\"---\"))\n",
    "\n",
    "print(aa.replace(\"N\",\"L\"))\n",
    "\n",
    "print(aa.replace(\"Deep\",\"keep\"))"
   ]
  },
  {
   "cell_type": "code",
   "execution_count": 118,
   "metadata": {},
   "outputs": [
    {
     "data": {
      "text/plain": [
       "'i like orange and bananas'"
      ]
     },
     "execution_count": 118,
     "metadata": {},
     "output_type": "execute_result"
    }
   ],
   "source": [
    "tex=\"i like apples and bananas\"\n",
    "tex.replace(\"apples\",\"orange\")"
   ]
  },
  {
   "cell_type": "code",
   "execution_count": 119,
   "metadata": {},
   "outputs": [
    {
     "data": {
      "text/plain": [
       "'i like apples and bananas'"
      ]
     },
     "execution_count": 119,
     "metadata": {},
     "output_type": "execute_result"
    }
   ],
   "source": [
    "tex=\"i like apples and bananas\"\n",
    "tex.replace(\"orange\",\"appels\")"
   ]
  },
  {
   "cell_type": "code",
   "execution_count": 120,
   "metadata": {},
   "outputs": [
    {
     "ename": "TypeError",
     "evalue": "replace expected at least 2 arguments, got 1",
     "output_type": "error",
     "traceback": [
      "\u001b[1;31m---------------------------------------------------------------------------\u001b[0m",
      "\u001b[1;31mTypeError\u001b[0m                                 Traceback (most recent call last)",
      "Cell \u001b[1;32mIn[120], line 2\u001b[0m\n\u001b[0;32m      1\u001b[0m tex\u001b[38;5;241m=\u001b[39m\u001b[38;5;124m\"\u001b[39m\u001b[38;5;124mi like apples and bananas\u001b[39m\u001b[38;5;124m\"\u001b[39m\n\u001b[1;32m----> 2\u001b[0m \u001b[43mtex\u001b[49m\u001b[38;5;241;43m.\u001b[39;49m\u001b[43mreplace\u001b[49m\u001b[43m(\u001b[49m\u001b[38;5;124;43m\"\u001b[39;49m\u001b[38;5;124;43morange\u001b[39;49m\u001b[38;5;124;43m\"\u001b[39;49m\u001b[43m)\u001b[49m\n",
      "\u001b[1;31mTypeError\u001b[0m: replace expected at least 2 arguments, got 1"
     ]
    }
   ],
   "source": [
    "tex=\"i like apples and bananas\"\n",
    "tex.replace(\"orange\")"
   ]
  },
  {
   "cell_type": "code",
   "execution_count": 122,
   "metadata": {},
   "outputs": [
    {
     "name": "stdout",
     "output_type": "stream",
     "text": [
      "iam GoinG to learn data types\n",
      "inm going to lenrn dntn types\n"
     ]
    },
    {
     "data": {
      "text/plain": [
       "'iam going to learn data types'"
      ]
     },
     "execution_count": 122,
     "metadata": {},
     "output_type": "execute_result"
    }
   ],
   "source": [
    "\n",
    "\n",
    "dca=\"iam going to learn data types\"\n",
    "\n",
    "print(dca.replace(\"g\",\"G\"))\n",
    "\n",
    "print(dca.replace(\"a\",\"n\"))\n",
    "dca"
   ]
  },
  {
   "cell_type": "markdown",
   "metadata": {},
   "source": [
    "**Split** and **Strip**"
   ]
  },
  {
   "cell_type": "code",
   "execution_count": 123,
   "metadata": {},
   "outputs": [
    {
     "data": {
      "text/plain": [
       "['who', 'is', 'the', 'pm', 'of', 'india']"
      ]
     },
     "execution_count": 123,
     "metadata": {},
     "output_type": "execute_result"
    }
   ],
   "source": [
    "##split returns the list of words\n",
    "ab=\"who is the pm of india\"\n",
    "\n",
    "ab.split()"
   ]
  },
  {
   "cell_type": "code",
   "execution_count": 138,
   "metadata": {},
   "outputs": [
    {
     "data": {
      "text/plain": [
       "['who is ', 'he pm of india']"
      ]
     },
     "execution_count": 138,
     "metadata": {},
     "output_type": "execute_result"
    }
   ],
   "source": [
    "ab.split(\"t\")"
   ]
  },
  {
   "cell_type": "code",
   "execution_count": 137,
   "metadata": {},
   "outputs": [
    {
     "data": {
      "text/plain": [
       "['who is the pm of india']"
      ]
     },
     "execution_count": 137,
     "metadata": {},
     "output_type": "execute_result"
    }
   ],
   "source": [
    "ab.split(\"x\")"
   ]
  },
  {
   "cell_type": "code",
   "execution_count": 142,
   "metadata": {},
   "outputs": [
    {
     "data": {
      "text/plain": [
       "'                nayidi           '"
      ]
     },
     "execution_count": 142,
     "metadata": {},
     "output_type": "execute_result"
    }
   ],
   "source": [
    "######### strip\n",
    "\n",
    "name = \"                nayidi           \"\n",
    "name\n",
    "#name.strip()"
   ]
  },
  {
   "cell_type": "code",
   "execution_count": 141,
   "metadata": {},
   "outputs": [
    {
     "data": {
      "text/plain": [
       "'nayidi'"
      ]
     },
     "execution_count": 141,
     "metadata": {},
     "output_type": "execute_result"
    }
   ],
   "source": [
    "######### strip\n",
    "\n",
    "name = \"                nayidi           \"\n",
    "name.strip()"
   ]
  },
  {
   "cell_type": "code",
   "execution_count": 143,
   "metadata": {},
   "outputs": [
    {
     "data": {
      "text/plain": [
       "'nayidi           '"
      ]
     },
     "execution_count": 143,
     "metadata": {},
     "output_type": "execute_result"
    }
   ],
   "source": [
    "name1=\"                nayidi           \"\n",
    "\n",
    "name1.lstrip()"
   ]
  },
  {
   "cell_type": "code",
   "execution_count": 144,
   "metadata": {},
   "outputs": [
    {
     "data": {
      "text/plain": [
       "'               nayidi'"
      ]
     },
     "execution_count": 144,
     "metadata": {},
     "output_type": "execute_result"
    }
   ],
   "source": [
    "name2=\"               nayidi           \"\n",
    "\n",
    "name2.rstrip()"
   ]
  },
  {
   "cell_type": "markdown",
   "metadata": {},
   "source": [
    "### **isalnum**/ **isalpha**/ **isdecimal**/ isdigit/ **isidentifier**"
   ]
  },
  {
   "cell_type": "code",
   "execution_count": 145,
   "metadata": {},
   "outputs": [
    {
     "data": {
      "text/plain": [
       "True"
      ]
     },
     "execution_count": 145,
     "metadata": {},
     "output_type": "execute_result"
    }
   ],
   "source": [
    "b=\"Flat\"\n",
    "\n",
    "b.isalpha()"
   ]
  },
  {
   "cell_type": "code",
   "execution_count": 146,
   "metadata": {},
   "outputs": [
    {
     "data": {
      "text/plain": [
       "False"
      ]
     },
     "execution_count": 146,
     "metadata": {},
     "output_type": "execute_result"
    }
   ],
   "source": [
    "c=\"Flat20\"\n",
    "\n",
    "c.isalpha()"
   ]
  },
  {
   "cell_type": "code",
   "execution_count": 147,
   "metadata": {},
   "outputs": [
    {
     "data": {
      "text/plain": [
       "True"
      ]
     },
     "execution_count": 147,
     "metadata": {},
     "output_type": "execute_result"
    }
   ],
   "source": [
    "d=\"Flat20\"\n",
    "\n",
    "d.isalnum()"
   ]
  },
  {
   "cell_type": "code",
   "execution_count": 153,
   "metadata": {},
   "outputs": [
    {
     "data": {
      "text/plain": [
       "False"
      ]
     },
     "execution_count": 153,
     "metadata": {},
     "output_type": "execute_result"
    }
   ],
   "source": [
    "bb=\"Flat#\"\n",
    "bb.isalnum()"
   ]
  },
  {
   "cell_type": "code",
   "execution_count": 154,
   "metadata": {},
   "outputs": [
    {
     "data": {
      "text/plain": [
       "True"
      ]
     },
     "execution_count": 154,
     "metadata": {},
     "output_type": "execute_result"
    }
   ],
   "source": [
    "x=\"35\"\n",
    "x.isalnum()\n"
   ]
  },
  {
   "cell_type": "code",
   "execution_count": 100,
   "metadata": {},
   "outputs": [
    {
     "data": {
      "text/plain": [
       "False"
      ]
     },
     "execution_count": 100,
     "metadata": {},
     "output_type": "execute_result"
    }
   ],
   "source": [
    "b=\"FLAT20&\"\n",
    "\n",
    "b.isalnum()"
   ]
  },
  {
   "cell_type": "code",
   "execution_count": 155,
   "metadata": {},
   "outputs": [
    {
     "data": {
      "text/plain": [
       "True"
      ]
     },
     "execution_count": 155,
     "metadata": {},
     "output_type": "execute_result"
    }
   ],
   "source": [
    "e=\"20\"\n",
    "\n",
    "e.isdigit()"
   ]
  },
  {
   "cell_type": "code",
   "execution_count": 156,
   "metadata": {},
   "outputs": [
    {
     "data": {
      "text/plain": [
       "False"
      ]
     },
     "execution_count": 156,
     "metadata": {},
     "output_type": "execute_result"
    }
   ],
   "source": [
    "\n",
    "\n",
    "f=\"flat20\"\n",
    "\n",
    "f.isdigit()"
   ]
  },
  {
   "cell_type": "markdown",
   "metadata": {},
   "source": [
    "#### **String** Properties\n",
    "#### It's important to note that strings have an important property known as immutability.\n",
    "#### This means that once a string is created, the elements within it can not be changed or replaced via item assignment. We will see how we can do such operation using string methods"
   ]
  },
  {
   "cell_type": "markdown",
   "metadata": {},
   "source": []
  },
  {
   "cell_type": "code",
   "execution_count": 157,
   "metadata": {},
   "outputs": [
    {
     "ename": "TypeError",
     "evalue": "'str' object does not support item assignment",
     "output_type": "error",
     "traceback": [
      "\u001b[1;31m---------------------------------------------------------------------------\u001b[0m",
      "\u001b[1;31mTypeError\u001b[0m                                 Traceback (most recent call last)",
      "Cell \u001b[1;32mIn[157], line 7\u001b[0m\n\u001b[0;32m      1\u001b[0m \u001b[38;5;66;03m# **String** Properties\u001b[39;00m\n\u001b[0;32m      2\u001b[0m \u001b[38;5;66;03m# It's important to note that strings have an important property known as immutability.\u001b[39;00m\n\u001b[0;32m      3\u001b[0m \u001b[38;5;66;03m# This means that once a string is created, the elements within it can not be changed or replaced via item assignment. We will see how we can do such operation using string methods\u001b[39;00m\n\u001b[0;32m      4\u001b[0m \n\u001b[0;32m      5\u001b[0m \u001b[38;5;66;03m# Can we change our string 'Hello' to 'Cello'? Lets try replacing the first letter H with C\u001b[39;00m\n\u001b[0;32m      6\u001b[0m s\u001b[38;5;241m=\u001b[39m\u001b[38;5;124m'\u001b[39m\u001b[38;5;124mHello\u001b[39m\u001b[38;5;124m'\u001b[39m\n\u001b[1;32m----> 7\u001b[0m \u001b[43ms\u001b[49m\u001b[43m[\u001b[49m\u001b[38;5;241;43m0\u001b[39;49m\u001b[43m]\u001b[49m \u001b[38;5;241m=\u001b[39m \u001b[38;5;124m'\u001b[39m\u001b[38;5;124mC\u001b[39m\u001b[38;5;124m'\u001b[39m\n",
      "\u001b[1;31mTypeError\u001b[0m: 'str' object does not support item assignment"
     ]
    }
   ],
   "source": [
    "# **String** Properties\n",
    "# It's important to note that strings have an important property known as immutability.\n",
    "# This means that once a string is created, the elements within it can not be changed or replaced via item assignment. We will see how we can do such operation using string methods\n",
    "\n",
    "# Can we change our string 'Hello' to 'Cello'? Lets try replacing the first letter H with C\n",
    "s='Hello'\n",
    "s[0] = 'C'"
   ]
  },
  {
   "cell_type": "code",
   "execution_count": 158,
   "metadata": {},
   "outputs": [
    {
     "name": "stdout",
     "output_type": "stream",
     "text": [
      "Cello\n",
      "Hello\n"
     ]
    }
   ],
   "source": [
    "\n",
    "# **Notice** how the error tells us directly what we can't do, that is we can't change the item assignment!\n",
    "## Something we can do is concatenate strings\n",
    "\n",
    "print(s.replace(\"H\",\"C\"))     # it is only temporary change , not a permant change\n",
    "\n",
    "print(s)"
   ]
  },
  {
   "cell_type": "code",
   "execution_count": 159,
   "metadata": {},
   "outputs": [
    {
     "name": "stdout",
     "output_type": "stream",
     "text": [
      "Cello\n",
      "Hello\n"
     ]
    }
   ],
   "source": [
    "\n",
    "\n",
    "# **Notice** how the error tells us directly what we can't do, that is we can't change the item assignment!\n",
    "## Something we can do is concatenate strings\n",
    "\n",
    "print(s.replace(\"H\",\"C\"))     # it is only temporary change , not a permant change\n",
    "\n",
    "print(s)\n",
    "\n"
   ]
  }
 ],
 "metadata": {
  "kernelspec": {
   "display_name": "cuda_env",
   "language": "python",
   "name": "python3"
  },
  "language_info": {
   "codemirror_mode": {
    "name": "ipython",
    "version": 3
   },
   "file_extension": ".py",
   "mimetype": "text/x-python",
   "name": "python",
   "nbconvert_exporter": "python",
   "pygments_lexer": "ipython3",
   "version": "3.10.9"
  }
 },
 "nbformat": 4,
 "nbformat_minor": 2
}
